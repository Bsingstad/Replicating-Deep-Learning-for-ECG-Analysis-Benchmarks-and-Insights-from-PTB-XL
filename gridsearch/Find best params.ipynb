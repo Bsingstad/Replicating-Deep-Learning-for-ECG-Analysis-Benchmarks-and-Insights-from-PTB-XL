{
 "cells": [
  {
   "cell_type": "code",
   "execution_count": 1,
   "id": "384fcbe5",
   "metadata": {},
   "outputs": [],
   "source": [
    "import pandas as pd\n",
    "import numpy as np\n",
    "import os"
   ]
  },
  {
   "cell_type": "code",
   "execution_count": 2,
   "id": "284c378a",
   "metadata": {},
   "outputs": [
    {
     "name": "stdout",
     "output_type": "stream",
     "text": [
      "all\n",
      "--------------------------\n",
      "epochs                 15.0\n",
      "batch_size             16.0\n",
      "init_lr               0.001\n",
      "lr_red                   no\n",
      "model_depth             9.0\n",
      "loss                    bce\n",
      "kernel_size    (60, 30, 15)\n",
      "auc                0.886827\n",
      "Name: 26, dtype: object\n",
      "--------------------------\n",
      "diagnostic\n",
      "--------------------------\n",
      "epochs                 25.0\n",
      "batch_size             32.0\n",
      "init_lr               0.001\n",
      "lr_red                   no\n",
      "model_depth             6.0\n",
      "loss                    bce\n",
      "kernel_size    (60, 30, 15)\n",
      "auc                 0.87052\n",
      "Name: 776, dtype: object\n",
      "--------------------------\n",
      "form\n",
      "--------------------------\n",
      "epochs                25.0\n",
      "batch_size            64.0\n",
      "init_lr              0.001\n",
      "lr_red                  no\n",
      "model_depth            6.0\n",
      "loss                   bce\n",
      "kernel_size    (20, 10, 5)\n",
      "auc               0.800552\n",
      "Name: 882, dtype: object\n",
      "--------------------------\n",
      "rhythm\n",
      "--------------------------\n",
      "epochs                 25.0\n",
      "batch_size             16.0\n",
      "init_lr               0.001\n",
      "lr_red                   no\n",
      "model_depth             9.0\n",
      "loss                   wbce\n",
      "kernel_size    (40, 20, 10)\n",
      "auc                 0.91494\n",
      "Name: 676, dtype: object\n",
      "--------------------------\n",
      "subdiagnostic\n",
      "--------------------------\n",
      "epochs                15.0\n",
      "batch_size            64.0\n",
      "init_lr              0.001\n",
      "lr_red                  no\n",
      "model_depth            6.0\n",
      "loss                  wbce\n",
      "kernel_size    (20, 10, 5)\n",
      "auc               0.877651\n",
      "Name: 237, dtype: object\n",
      "--------------------------\n",
      "superdiagnostic\n",
      "--------------------------\n",
      "epochs                 25.0\n",
      "batch_size             64.0\n",
      "init_lr               0.001\n",
      "lr_red                  yes\n",
      "model_depth            12.0\n",
      "loss                    bce\n",
      "kernel_size    (40, 20, 10)\n",
      "auc                0.895236\n",
      "Name: 877, dtype: object\n",
      "--------------------------\n"
     ]
    }
   ],
   "source": [
    "for csv in os.listdir(\"./\"):\n",
    "    if csv.endswith(\".csv\"):\n",
    "        df = pd.read_csv(\"./\" + csv)\n",
    "        print(csv.split(\".\")[0].split(\"_\")[-1])\n",
    "        print(\"--------------------------\")\n",
    "        print(df.iloc[np.argmax(df[\"auc\"])])\n",
    "        print(\"--------------------------\")"
   ]
  },
  {
   "cell_type": "code",
   "execution_count": null,
   "id": "81ece1f1",
   "metadata": {},
   "outputs": [],
   "source": [
    "for i in o"
   ]
  },
  {
   "cell_type": "code",
   "execution_count": 13,
   "id": "a8d91785",
   "metadata": {},
   "outputs": [],
   "source": [
    "df = pd.read_csv(\"gridsearch_score_all.csv\")"
   ]
  },
  {
   "cell_type": "code",
   "execution_count": 14,
   "id": "92f45849",
   "metadata": {},
   "outputs": [
    {
     "data": {
      "text/plain": [
       "26"
      ]
     },
     "execution_count": 14,
     "metadata": {},
     "output_type": "execute_result"
    }
   ],
   "source": [
    "np.argmax(df[\"auc\"])"
   ]
  },
  {
   "cell_type": "code",
   "execution_count": 15,
   "id": "71f92559",
   "metadata": {},
   "outputs": [
    {
     "data": {
      "text/plain": [
       "epochs                 15.0\n",
       "batch_size             16.0\n",
       "init_lr               0.001\n",
       "lr_red                   no\n",
       "model_depth             9.0\n",
       "loss                    bce\n",
       "kernel_size    (60, 30, 15)\n",
       "auc                0.886827\n",
       "Name: 26, dtype: object"
      ]
     },
     "execution_count": 15,
     "metadata": {},
     "output_type": "execute_result"
    }
   ],
   "source": [
    "df.iloc[np.argmax(df[\"auc\"])]"
   ]
  },
  {
   "cell_type": "code",
   "execution_count": 16,
   "id": "780d4a21",
   "metadata": {},
   "outputs": [],
   "source": [
    "df = pd.read_csv(\"gridsearch_score_superdiagnostic.csv\")"
   ]
  },
  {
   "cell_type": "code",
   "execution_count": 17,
   "id": "d889f59a",
   "metadata": {},
   "outputs": [
    {
     "data": {
      "text/plain": [
       "116"
      ]
     },
     "execution_count": 17,
     "metadata": {},
     "output_type": "execute_result"
    }
   ],
   "source": [
    "np.argmax(df[\"auc\"])"
   ]
  },
  {
   "cell_type": "code",
   "execution_count": 18,
   "id": "c82717f6",
   "metadata": {},
   "outputs": [
    {
     "data": {
      "text/plain": [
       "epochs                 15.0\n",
       "batch_size             32.0\n",
       "init_lr               0.001\n",
       "lr_red                  yes\n",
       "model_depth             9.0\n",
       "loss                    bce\n",
       "kernel_size    (60, 30, 15)\n",
       "auc                0.893365\n",
       "Name: 116, dtype: object"
      ]
     },
     "execution_count": 18,
     "metadata": {},
     "output_type": "execute_result"
    }
   ],
   "source": [
    "df.iloc[np.argmax(df[\"auc\"])]"
   ]
  },
  {
   "cell_type": "code",
   "execution_count": null,
   "id": "cb50b4a9",
   "metadata": {},
   "outputs": [],
   "source": []
  }
 ],
 "metadata": {
  "kernelspec": {
   "display_name": "Python 3 (ipykernel)",
   "language": "python",
   "name": "python3"
  },
  "language_info": {
   "codemirror_mode": {
    "name": "ipython",
    "version": 3
   },
   "file_extension": ".py",
   "mimetype": "text/x-python",
   "name": "python",
   "nbconvert_exporter": "python",
   "pygments_lexer": "ipython3",
   "version": "3.8.5"
  }
 },
 "nbformat": 4,
 "nbformat_minor": 5
}
