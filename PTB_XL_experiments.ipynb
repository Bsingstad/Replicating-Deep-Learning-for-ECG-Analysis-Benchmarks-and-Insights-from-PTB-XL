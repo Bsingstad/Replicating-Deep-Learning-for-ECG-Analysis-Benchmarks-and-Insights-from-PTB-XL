{
  "cells": [
    {
      "cell_type": "code",
      "execution_count": 2,
      "id": "JXL0zlq8Wdpl",
      "metadata": {
        "id": "JXL0zlq8Wdpl",
        "outputId": "17c0acac-4444-4588-f50d-75ee843a5095",
        "colab": {
          "base_uri": "https://localhost:8080/"
        }
      },
      "outputs": [
        {
          "output_type": "stream",
          "name": "stdout",
          "text": [
            "Mounted at /content/drive\n"
          ]
        }
      ],
      "source": [
        "from google.colab import drive\n",
        "drive.mount('/content/drive')"
      ]
    },
    {
      "cell_type": "code",
      "execution_count": 4,
      "id": "3d6d4835-aec8-4e68-aba8-7b71a1e3f319",
      "metadata": {
        "id": "3d6d4835-aec8-4e68-aba8-7b71a1e3f319"
      },
      "outputs": [],
      "source": [
        "import wget\n",
        "import numpy as np\n",
        "import os\n",
        "import zipfile\n",
        "import tensorflow as tf\n",
        "from sklearn.utils.class_weight import compute_class_weight\n",
        "import pandas as pd\n",
        "import seaborn as sns\n",
        "from sklearn.metrics import confusion_matrix\n",
        "#import tensorflow_addons as tfa"
      ]
    },
    {
      "cell_type": "code",
      "execution_count": 5,
      "id": "181ee1f6-3777-4aba-be5d-db810af7b5bc",
      "metadata": {
        "id": "181ee1f6-3777-4aba-be5d-db810af7b5bc"
      },
      "outputs": [],
      "source": [
        "%matplotlib inline\n",
        "%load_ext autoreload"
      ]
    },
    {
      "cell_type": "code",
      "execution_count": 6,
      "id": "T0cGBrFsdJFb",
      "metadata": {
        "colab": {
          "base_uri": "https://localhost:8080/"
        },
        "id": "T0cGBrFsdJFb",
        "outputId": "6b66f12c-3129-47d0-9a0d-1b0b5eebb805"
      },
      "outputs": [
        {
          "output_type": "stream",
          "name": "stdout",
          "text": [
            "--2024-10-04 09:51:23--  https://physionet.org/static/published-projects/ptb-xl/ptb-xl-a-large-publicly-available-electrocardiography-dataset-1.0.1.zip\n",
            "Resolving physionet.org (physionet.org)... 18.18.42.54\n",
            "Connecting to physionet.org (physionet.org)|18.18.42.54|:443... connected.\n",
            "HTTP request sent, awaiting response... 200 OK\n",
            "Length: 1842722380 (1.7G) [application/zip]\n",
            "Saving to: ‘ptb-xl-a-large-publicly-available-electrocardiography-dataset-1.0.1.zip’\n",
            "\n",
            "ptb-xl-a-large-publ 100%[===================>]   1.72G   639KB/s    in 48m 45s \n",
            "\n",
            "2024-10-04 10:40:08 (615 KB/s) - ‘ptb-xl-a-large-publicly-available-electrocardiography-dataset-1.0.1.zip’ saved [1842722380/1842722380]\n",
            "\n"
          ]
        }
      ],
      "source": [
        "!wget https://physionet.org/static/published-projects/ptb-xl/ptb-xl-a-large-publicly-available-electrocardiography-dataset-1.0.1.zip\n",
        "\n",
        "os.mkdir(\"./data/\")\n",
        "\n",
        "\n",
        "with zipfile.ZipFile(\"./ptb-xl-a-large-publicly-available-electrocardiography-dataset-1.0.1.zip\", 'r') as zip_ref:\n",
        "    zip_ref.extractall(\"./data/\")"
      ]
    },
    {
      "cell_type": "code",
      "execution_count": 7,
      "id": "ICe12Y7yxFKg",
      "metadata": {
        "id": "ICe12Y7yxFKg"
      },
      "outputs": [],
      "source": [
        "with zipfile.ZipFile(\"./ptb-xl-a-large-publicly-available-electrocardiography-dataset-1.0.1.zip\", 'r') as zip_ref:\n",
        "    zip_ref.extractall(\"./data/\")"
      ]
    },
    {
      "cell_type": "code",
      "execution_count": 8,
      "id": "V-j1oLL4Li10",
      "metadata": {
        "colab": {
          "base_uri": "https://localhost:8080/"
        },
        "id": "V-j1oLL4Li10",
        "outputId": "63e65f35-0fde-461c-9260-1abc8b46f9b2"
      },
      "outputs": [
        {
          "output_type": "stream",
          "name": "stdout",
          "text": [
            "Collecting GitPython\n",
            "  Downloading GitPython-3.1.43-py3-none-any.whl.metadata (13 kB)\n",
            "Collecting gitdb<5,>=4.0.1 (from GitPython)\n",
            "  Downloading gitdb-4.0.11-py3-none-any.whl.metadata (1.2 kB)\n",
            "Collecting smmap<6,>=3.0.1 (from gitdb<5,>=4.0.1->GitPython)\n",
            "  Downloading smmap-5.0.1-py3-none-any.whl.metadata (4.3 kB)\n",
            "Downloading GitPython-3.1.43-py3-none-any.whl (207 kB)\n",
            "\u001b[2K   \u001b[90m━━━━━━━━━━━━━━━━━━━━━━━━━━━━━━━━━━━━━━━━\u001b[0m \u001b[32m207.3/207.3 kB\u001b[0m \u001b[31m4.7 MB/s\u001b[0m eta \u001b[36m0:00:00\u001b[0m\n",
            "\u001b[?25hDownloading gitdb-4.0.11-py3-none-any.whl (62 kB)\n",
            "\u001b[2K   \u001b[90m━━━━━━━━━━━━━━━━━━━━━━━━━━━━━━━━━━━━━━━━\u001b[0m \u001b[32m62.7/62.7 kB\u001b[0m \u001b[31m4.8 MB/s\u001b[0m eta \u001b[36m0:00:00\u001b[0m\n",
            "\u001b[?25hDownloading smmap-5.0.1-py3-none-any.whl (24 kB)\n",
            "Installing collected packages: smmap, gitdb, GitPython\n",
            "Successfully installed GitPython-3.1.43 gitdb-4.0.11 smmap-5.0.1\n"
          ]
        }
      ],
      "source": [
        "!pip install GitPython\n",
        "from git import Repo"
      ]
    },
    {
      "cell_type": "code",
      "execution_count": 19,
      "id": "aLEwloYTLpue",
      "metadata": {
        "id": "aLEwloYTLpue"
      },
      "outputs": [],
      "source": [
        "HTTPS_REMOTE_URL = 'https://github.com/Bsingstad/ecg_ptbxl_benchmarking.git'\n",
        "DEST_NAME = 'github_repo'"
      ]
    },
    {
      "cell_type": "code",
      "execution_count": 20,
      "id": "wrApvEoJLPYq",
      "metadata": {
        "colab": {
          "base_uri": "https://localhost:8080/",
          "height": 339
        },
        "id": "wrApvEoJLPYq",
        "outputId": "0176badc-a720-49bc-d55e-bd8b04dea6df"
      },
      "outputs": [
        {
          "output_type": "error",
          "ename": "GitCommandError",
          "evalue": "Cmd('git') failed due to: exit code(128)\n  cmdline: git clone -v --branch=convnext -- https://github.com/Bsingstad/ecg_ptbxl_benchmarking.git github_repo\n  stderr: 'fatal: destination path 'github_repo' already exists and is not an empty directory.\n'",
          "traceback": [
            "\u001b[0;31m---------------------------------------------------------------------------\u001b[0m",
            "\u001b[0;31mGitCommandError\u001b[0m                           Traceback (most recent call last)",
            "\u001b[0;32m<ipython-input-20-a3641daa762c>\u001b[0m in \u001b[0;36m<cell line: 1>\u001b[0;34m()\u001b[0m\n\u001b[0;32m----> 1\u001b[0;31m \u001b[0mRepo\u001b[0m\u001b[0;34m.\u001b[0m\u001b[0mclone_from\u001b[0m\u001b[0;34m(\u001b[0m\u001b[0mHTTPS_REMOTE_URL\u001b[0m\u001b[0;34m,\u001b[0m \u001b[0mDEST_NAME\u001b[0m\u001b[0;34m,\u001b[0m\u001b[0mbranch\u001b[0m\u001b[0;34m=\u001b[0m\u001b[0;34m'convnext'\u001b[0m\u001b[0;34m)\u001b[0m\u001b[0;34m\u001b[0m\u001b[0;34m\u001b[0m\u001b[0m\n\u001b[0m",
            "\u001b[0;32m/usr/local/lib/python3.10/dist-packages/git/repo/base.py\u001b[0m in \u001b[0;36mclone_from\u001b[0;34m(cls, url, to_path, progress, env, multi_options, allow_unsafe_protocols, allow_unsafe_options, **kwargs)\u001b[0m\n\u001b[1;32m   1523\u001b[0m         \u001b[0;32mif\u001b[0m \u001b[0menv\u001b[0m \u001b[0;32mis\u001b[0m \u001b[0;32mnot\u001b[0m \u001b[0;32mNone\u001b[0m\u001b[0;34m:\u001b[0m\u001b[0;34m\u001b[0m\u001b[0;34m\u001b[0m\u001b[0m\n\u001b[1;32m   1524\u001b[0m             \u001b[0mgit\u001b[0m\u001b[0;34m.\u001b[0m\u001b[0mupdate_environment\u001b[0m\u001b[0;34m(\u001b[0m\u001b[0;34m**\u001b[0m\u001b[0menv\u001b[0m\u001b[0;34m)\u001b[0m\u001b[0;34m\u001b[0m\u001b[0;34m\u001b[0m\u001b[0m\n\u001b[0;32m-> 1525\u001b[0;31m         return cls._clone(\n\u001b[0m\u001b[1;32m   1526\u001b[0m             \u001b[0mgit\u001b[0m\u001b[0;34m,\u001b[0m\u001b[0;34m\u001b[0m\u001b[0;34m\u001b[0m\u001b[0m\n\u001b[1;32m   1527\u001b[0m             \u001b[0murl\u001b[0m\u001b[0;34m,\u001b[0m\u001b[0;34m\u001b[0m\u001b[0;34m\u001b[0m\u001b[0m\n",
            "\u001b[0;32m/usr/local/lib/python3.10/dist-packages/git/repo/base.py\u001b[0m in \u001b[0;36m_clone\u001b[0;34m(cls, git, url, path, odb_default_type, progress, multi_options, allow_unsafe_protocols, allow_unsafe_options, **kwargs)\u001b[0m\n\u001b[1;32m   1394\u001b[0m \u001b[0;34m\u001b[0m\u001b[0m\n\u001b[1;32m   1395\u001b[0m             \u001b[0m_logger\u001b[0m\u001b[0;34m.\u001b[0m\u001b[0mdebug\u001b[0m\u001b[0;34m(\u001b[0m\u001b[0;34m\"Cmd(%s)'s unused stdout: %s\"\u001b[0m\u001b[0;34m,\u001b[0m \u001b[0mcmdline\u001b[0m\u001b[0;34m,\u001b[0m \u001b[0mstdout\u001b[0m\u001b[0;34m)\u001b[0m\u001b[0;34m\u001b[0m\u001b[0;34m\u001b[0m\u001b[0m\n\u001b[0;32m-> 1396\u001b[0;31m             \u001b[0mfinalize_process\u001b[0m\u001b[0;34m(\u001b[0m\u001b[0mproc\u001b[0m\u001b[0;34m,\u001b[0m \u001b[0mstderr\u001b[0m\u001b[0;34m=\u001b[0m\u001b[0mstderr\u001b[0m\u001b[0;34m)\u001b[0m\u001b[0;34m\u001b[0m\u001b[0;34m\u001b[0m\u001b[0m\n\u001b[0m\u001b[1;32m   1397\u001b[0m \u001b[0;34m\u001b[0m\u001b[0m\n\u001b[1;32m   1398\u001b[0m         \u001b[0;31m# Our git command could have a different working dir than our actual\u001b[0m\u001b[0;34m\u001b[0m\u001b[0;34m\u001b[0m\u001b[0m\n",
            "\u001b[0;32m/usr/local/lib/python3.10/dist-packages/git/util.py\u001b[0m in \u001b[0;36mfinalize_process\u001b[0;34m(proc, **kwargs)\u001b[0m\n\u001b[1;32m    502\u001b[0m     accordingly.\"\"\"\n\u001b[1;32m    503\u001b[0m     \u001b[0;31m# TODO: No close proc-streams??\u001b[0m\u001b[0;34m\u001b[0m\u001b[0;34m\u001b[0m\u001b[0m\n\u001b[0;32m--> 504\u001b[0;31m     \u001b[0mproc\u001b[0m\u001b[0;34m.\u001b[0m\u001b[0mwait\u001b[0m\u001b[0;34m(\u001b[0m\u001b[0;34m**\u001b[0m\u001b[0mkwargs\u001b[0m\u001b[0;34m)\u001b[0m\u001b[0;34m\u001b[0m\u001b[0;34m\u001b[0m\u001b[0m\n\u001b[0m\u001b[1;32m    505\u001b[0m \u001b[0;34m\u001b[0m\u001b[0m\n\u001b[1;32m    506\u001b[0m \u001b[0;34m\u001b[0m\u001b[0m\n",
            "\u001b[0;32m/usr/local/lib/python3.10/dist-packages/git/cmd.py\u001b[0m in \u001b[0;36mwait\u001b[0;34m(self, stderr)\u001b[0m\n\u001b[1;32m    832\u001b[0m                 \u001b[0merrstr\u001b[0m \u001b[0;34m=\u001b[0m \u001b[0mread_all_from_possibly_closed_stream\u001b[0m\u001b[0;34m(\u001b[0m\u001b[0mp_stderr\u001b[0m\u001b[0;34m)\u001b[0m\u001b[0;34m\u001b[0m\u001b[0;34m\u001b[0m\u001b[0m\n\u001b[1;32m    833\u001b[0m                 \u001b[0m_logger\u001b[0m\u001b[0;34m.\u001b[0m\u001b[0mdebug\u001b[0m\u001b[0;34m(\u001b[0m\u001b[0;34m\"AutoInterrupt wait stderr: %r\"\u001b[0m \u001b[0;34m%\u001b[0m \u001b[0;34m(\u001b[0m\u001b[0merrstr\u001b[0m\u001b[0;34m,\u001b[0m\u001b[0;34m)\u001b[0m\u001b[0;34m)\u001b[0m\u001b[0;34m\u001b[0m\u001b[0;34m\u001b[0m\u001b[0m\n\u001b[0;32m--> 834\u001b[0;31m                 \u001b[0;32mraise\u001b[0m \u001b[0mGitCommandError\u001b[0m\u001b[0;34m(\u001b[0m\u001b[0mremove_password_if_present\u001b[0m\u001b[0;34m(\u001b[0m\u001b[0mself\u001b[0m\u001b[0;34m.\u001b[0m\u001b[0margs\u001b[0m\u001b[0;34m)\u001b[0m\u001b[0;34m,\u001b[0m \u001b[0mstatus\u001b[0m\u001b[0;34m,\u001b[0m \u001b[0merrstr\u001b[0m\u001b[0;34m)\u001b[0m\u001b[0;34m\u001b[0m\u001b[0;34m\u001b[0m\u001b[0m\n\u001b[0m\u001b[1;32m    835\u001b[0m             \u001b[0;32mreturn\u001b[0m \u001b[0mstatus\u001b[0m\u001b[0;34m\u001b[0m\u001b[0;34m\u001b[0m\u001b[0m\n\u001b[1;32m    836\u001b[0m \u001b[0;34m\u001b[0m\u001b[0m\n",
            "\u001b[0;31mGitCommandError\u001b[0m: Cmd('git') failed due to: exit code(128)\n  cmdline: git clone -v --branch=convnext -- https://github.com/Bsingstad/ecg_ptbxl_benchmarking.git github_repo\n  stderr: 'fatal: destination path 'github_repo' already exists and is not an empty directory.\n'"
          ]
        }
      ],
      "source": [
        "Repo.clone_from(HTTPS_REMOTE_URL, DEST_NAME,branch='convnext')"
      ]
    },
    {
      "cell_type": "code",
      "execution_count": 11,
      "id": "5bf67a99-cd41-4f22-aba1-fd73ec880689",
      "metadata": {
        "colab": {
          "base_uri": "https://localhost:8080/"
        },
        "id": "5bf67a99-cd41-4f22-aba1-fd73ec880689",
        "outputId": "ed417b02-5689-4d5d-cd1f-3aee7bfc2a21"
      },
      "outputs": [
        {
          "output_type": "execute_result",
          "data": {
            "text/plain": [
              "['example_physionet.py',\n",
              " 'scp_statements.csv',\n",
              " 'RECORDS',\n",
              " 'records100',\n",
              " 'SHA256SUMS.txt',\n",
              " 'LICENSE.txt',\n",
              " 'ptbxl_database.csv',\n",
              " 'records500']"
            ]
          },
          "metadata": {},
          "execution_count": 11
        }
      ],
      "source": [
        "os.listdir(\"./data/ptb-xl-a-large-publicly-available-electrocardiography-dataset-1.0.1/\")"
      ]
    },
    {
      "cell_type": "code",
      "execution_count": 12,
      "id": "fRteqX8GY5Nw",
      "metadata": {
        "colab": {
          "base_uri": "https://localhost:8080/"
        },
        "id": "fRteqX8GY5Nw",
        "outputId": "ab236901-1bd0-43b2-e510-599d362beb15"
      },
      "outputs": [
        {
          "output_type": "stream",
          "name": "stdout",
          "text": [
            "Collecting git+https://github.com/Bsingstad/fastai.git\n",
            "  Cloning https://github.com/Bsingstad/fastai.git to /tmp/pip-req-build-9eg0824d\n",
            "  Running command git clone --filter=blob:none --quiet https://github.com/Bsingstad/fastai.git /tmp/pip-req-build-9eg0824d\n",
            "  Resolved https://github.com/Bsingstad/fastai.git to commit d870caebf33eec806e3b85e0db663e1d4a3d61c8\n",
            "  Preparing metadata (setup.py) ... \u001b[?25l\u001b[?25hdone\n",
            "Requirement already satisfied: bottleneck in /usr/local/lib/python3.10/dist-packages (from fastai==1.0.61) (1.4.0)\n",
            "Requirement already satisfied: fastprogress>=0.2.1 in /usr/local/lib/python3.10/dist-packages (from fastai==1.0.61) (1.0.3)\n",
            "Requirement already satisfied: beautifulsoup4 in /usr/local/lib/python3.10/dist-packages (from fastai==1.0.61) (4.12.3)\n",
            "Requirement already satisfied: matplotlib in /usr/local/lib/python3.10/dist-packages (from fastai==1.0.61) (3.7.1)\n",
            "Requirement already satisfied: numexpr in /usr/local/lib/python3.10/dist-packages (from fastai==1.0.61) (2.10.1)\n",
            "Requirement already satisfied: numpy>=1.15 in /usr/local/lib/python3.10/dist-packages (from fastai==1.0.61) (1.26.4)\n",
            "Collecting nvidia-ml-py3 (from fastai==1.0.61)\n",
            "  Downloading nvidia-ml-py3-7.352.0.tar.gz (19 kB)\n",
            "  Preparing metadata (setup.py) ... \u001b[?25l\u001b[?25hdone\n",
            "Requirement already satisfied: pandas in /usr/local/lib/python3.10/dist-packages (from fastai==1.0.61) (2.2.2)\n",
            "Requirement already satisfied: packaging in /usr/local/lib/python3.10/dist-packages (from fastai==1.0.61) (24.1)\n",
            "Requirement already satisfied: Pillow in /usr/local/lib/python3.10/dist-packages (from fastai==1.0.61) (10.4.0)\n",
            "Requirement already satisfied: pyyaml in /usr/local/lib/python3.10/dist-packages (from fastai==1.0.61) (6.0.2)\n",
            "Requirement already satisfied: requests in /usr/local/lib/python3.10/dist-packages (from fastai==1.0.61) (2.32.3)\n",
            "Requirement already satisfied: scipy in /usr/local/lib/python3.10/dist-packages (from fastai==1.0.61) (1.13.1)\n",
            "Requirement already satisfied: torch>=1.0.0 in /usr/local/lib/python3.10/dist-packages (from fastai==1.0.61) (2.4.1+cu121)\n",
            "Requirement already satisfied: torchvision in /usr/local/lib/python3.10/dist-packages (from fastai==1.0.61) (0.19.1+cu121)\n",
            "Requirement already satisfied: filelock in /usr/local/lib/python3.10/dist-packages (from torch>=1.0.0->fastai==1.0.61) (3.16.1)\n",
            "Requirement already satisfied: typing-extensions>=4.8.0 in /usr/local/lib/python3.10/dist-packages (from torch>=1.0.0->fastai==1.0.61) (4.12.2)\n",
            "Requirement already satisfied: sympy in /usr/local/lib/python3.10/dist-packages (from torch>=1.0.0->fastai==1.0.61) (1.13.3)\n",
            "Requirement already satisfied: networkx in /usr/local/lib/python3.10/dist-packages (from torch>=1.0.0->fastai==1.0.61) (3.3)\n",
            "Requirement already satisfied: jinja2 in /usr/local/lib/python3.10/dist-packages (from torch>=1.0.0->fastai==1.0.61) (3.1.4)\n",
            "Requirement already satisfied: fsspec in /usr/local/lib/python3.10/dist-packages (from torch>=1.0.0->fastai==1.0.61) (2024.6.1)\n",
            "Requirement already satisfied: soupsieve>1.2 in /usr/local/lib/python3.10/dist-packages (from beautifulsoup4->fastai==1.0.61) (2.6)\n",
            "Requirement already satisfied: contourpy>=1.0.1 in /usr/local/lib/python3.10/dist-packages (from matplotlib->fastai==1.0.61) (1.3.0)\n",
            "Requirement already satisfied: cycler>=0.10 in /usr/local/lib/python3.10/dist-packages (from matplotlib->fastai==1.0.61) (0.12.1)\n",
            "Requirement already satisfied: fonttools>=4.22.0 in /usr/local/lib/python3.10/dist-packages (from matplotlib->fastai==1.0.61) (4.54.1)\n",
            "Requirement already satisfied: kiwisolver>=1.0.1 in /usr/local/lib/python3.10/dist-packages (from matplotlib->fastai==1.0.61) (1.4.7)\n",
            "Requirement already satisfied: pyparsing>=2.3.1 in /usr/local/lib/python3.10/dist-packages (from matplotlib->fastai==1.0.61) (3.1.4)\n",
            "Requirement already satisfied: python-dateutil>=2.7 in /usr/local/lib/python3.10/dist-packages (from matplotlib->fastai==1.0.61) (2.8.2)\n",
            "Requirement already satisfied: pytz>=2020.1 in /usr/local/lib/python3.10/dist-packages (from pandas->fastai==1.0.61) (2024.2)\n",
            "Requirement already satisfied: tzdata>=2022.7 in /usr/local/lib/python3.10/dist-packages (from pandas->fastai==1.0.61) (2024.2)\n",
            "Requirement already satisfied: charset-normalizer<4,>=2 in /usr/local/lib/python3.10/dist-packages (from requests->fastai==1.0.61) (3.3.2)\n",
            "Requirement already satisfied: idna<4,>=2.5 in /usr/local/lib/python3.10/dist-packages (from requests->fastai==1.0.61) (3.10)\n",
            "Requirement already satisfied: urllib3<3,>=1.21.1 in /usr/local/lib/python3.10/dist-packages (from requests->fastai==1.0.61) (2.2.3)\n",
            "Requirement already satisfied: certifi>=2017.4.17 in /usr/local/lib/python3.10/dist-packages (from requests->fastai==1.0.61) (2024.8.30)\n",
            "Requirement already satisfied: six>=1.5 in /usr/local/lib/python3.10/dist-packages (from python-dateutil>=2.7->matplotlib->fastai==1.0.61) (1.16.0)\n",
            "Requirement already satisfied: MarkupSafe>=2.0 in /usr/local/lib/python3.10/dist-packages (from jinja2->torch>=1.0.0->fastai==1.0.61) (2.1.5)\n",
            "Requirement already satisfied: mpmath<1.4,>=1.1.0 in /usr/local/lib/python3.10/dist-packages (from sympy->torch>=1.0.0->fastai==1.0.61) (1.3.0)\n",
            "Building wheels for collected packages: fastai, nvidia-ml-py3\n",
            "  Building wheel for fastai (setup.py) ... \u001b[?25l\u001b[?25hdone\n",
            "  Created wheel for fastai: filename=fastai-1.0.61-py3-none-any.whl size=239228 sha256=efd26ab04bbb53234ec97becc6e3d9c80aa567af9a898de6ef18d0fa59046fd0\n",
            "  Stored in directory: /tmp/pip-ephem-wheel-cache-qaidphji/wheels/f4/eb/3e/6b6f59f9ed26a95a1e8616c8e09554d1713b92b78f367c8a85\n",
            "  Building wheel for nvidia-ml-py3 (setup.py) ... \u001b[?25l\u001b[?25hdone\n",
            "  Created wheel for nvidia-ml-py3: filename=nvidia_ml_py3-7.352.0-py3-none-any.whl size=19171 sha256=130dc8100c855bac09448df07d862c5264c2b10c5daa6da5cc895899ad3d0549\n",
            "  Stored in directory: /root/.cache/pip/wheels/5c/d8/c0/46899f8be7a75a2ffd197a23c8797700ea858b9b34819fbf9e\n",
            "Successfully built fastai nvidia-ml-py3\n",
            "Installing collected packages: nvidia-ml-py3, fastai\n",
            "  Attempting uninstall: fastai\n",
            "    Found existing installation: fastai 2.7.17\n",
            "    Uninstalling fastai-2.7.17:\n",
            "      Successfully uninstalled fastai-2.7.17\n",
            "Successfully installed fastai-1.0.61 nvidia-ml-py3-7.352.0\n"
          ]
        }
      ],
      "source": [
        "!pip install git+https://github.com/Bsingstad/fastai.git"
      ]
    },
    {
      "cell_type": "code",
      "execution_count": 13,
      "id": "EpL88UONKFJz",
      "metadata": {
        "id": "EpL88UONKFJz"
      },
      "outputs": [],
      "source": [
        "import fastai"
      ]
    },
    {
      "cell_type": "code",
      "execution_count": 14,
      "id": "IpjW6eVLMGJQ",
      "metadata": {
        "id": "IpjW6eVLMGJQ"
      },
      "outputs": [],
      "source": [
        "from github_repo.code import *"
      ]
    },
    {
      "cell_type": "code",
      "execution_count": 15,
      "id": "xDIdqSZiIdZr",
      "metadata": {
        "id": "xDIdqSZiIdZr"
      },
      "outputs": [],
      "source": [
        "from IPython.display import clear_output, display, HTML"
      ]
    },
    {
      "cell_type": "code",
      "execution_count": 17,
      "id": "Q8fTH7i-v8SY",
      "metadata": {
        "id": "Q8fTH7i-v8SY"
      },
      "outputs": [],
      "source": [
        "os.mkdir('../../content/drive/MyDrive/PTB-xl-output-next/')"
      ]
    },
    {
      "cell_type": "code",
      "execution_count": 18,
      "id": "48KVqw_QMq2H",
      "metadata": {
        "colab": {
          "base_uri": "https://localhost:8080/"
        },
        "id": "48KVqw_QMq2H",
        "outputId": "e5d2a67b-317b-4211-dc1b-8822cdc14bff"
      },
      "outputs": [
        {
          "output_type": "stream",
          "name": "stdout",
          "text": [
            "exp0\n",
            "all\n",
            "100% 21837/21837 [00:53<00:00, 406.97it/s]\n",
            "['1AVB' '2AVB' '3AVB' 'ABQRS' 'AFIB' 'AFLT' 'ALMI' 'AMI' 'ANEUR' 'ASMI'\n",
            " 'BIGU' 'CLBBB' 'CRBBB' 'DIG' 'EL' 'HVOLT' 'ILBBB' 'ILMI' 'IMI' 'INJAL'\n",
            " 'INJAS' 'INJIL' 'INJIN' 'INJLA' 'INVT' 'IPLMI' 'IPMI' 'IRBBB' 'ISCAL'\n",
            " 'ISCAN' 'ISCAS' 'ISCIL' 'ISCIN' 'ISCLA' 'ISC_' 'IVCD' 'LAFB' 'LAO/LAE'\n",
            " 'LMI' 'LNGQT' 'LOWT' 'LPFB' 'LPR' 'LVH' 'LVOLT' 'NDT' 'NORM' 'NST_' 'NT_'\n",
            " 'PAC' 'PACE' 'PMI' 'PRC(S)' 'PSVT' 'PVC' 'QWAVE' 'RAO/RAE' 'RVH' 'SARRH'\n",
            " 'SBRAD' 'SEHYP' 'SR' 'STACH' 'STD_' 'STE_' 'SVARR' 'SVTAC' 'TAB_' 'TRIGU'\n",
            " 'VCLVH' 'WPW']\n",
            "Training from scratch...\n",
            "model: fastai_xresnet1d101\n",
            " 72% 98/136 [00:07<00:03, 12.36it/s]\n",
            "/usr/local/lib/python3.10/dist-packages/fastai/basic_train.py:272: FutureWarning: You are using `torch.load` with `weights_only=False` (the current default value), which uses the default pickle module implicitly. It is possible to construct malicious pickle data which will execute arbitrary code during unpickling (See https://github.com/pytorch/pytorch/blob/main/SECURITY.md#untrusted-models for more details). In a future release, the default value for `weights_only` will be flipped to `True`. This limits the functions that could be executed during unpickling. Arbitrary objects will no longer be allowed to be loaded via this mode unless they are explicitly allowlisted by the user via `torch.serialization.add_safe_globals`. We recommend you start setting `weights_only=True` for any use case where you don't have full control of the loaded file. Please open an issue on GitHub for any issues related to this experimental feature.\n",
            "  state = torch.load(source, map_location=device)\n",
            "LR Finder is complete, type {learner_name}.recorder.plot() to see the graph.\n",
            "100% 136/136 [00:08<00:00, 15.99it/s]\n",
            "100% 120/120 [00:02<00:00, 54.61it/s]\n",
            "100% 136/136 [00:08<00:00, 16.28it/s]\n",
            "100% 120/120 [00:02<00:00, 54.34it/s]\n",
            "100% 136/136 [00:08<00:00, 16.43it/s]\n",
            "100% 120/120 [00:02<00:00, 55.36it/s]\n",
            "100% 136/136 [00:08<00:00, 16.43it/s]\n",
            "100% 120/120 [00:02<00:00, 49.94it/s]\n",
            "100% 136/136 [00:08<00:00, 16.46it/s]\n",
            "100% 120/120 [00:02<00:00, 54.16it/s]\n",
            "100% 136/136 [00:08<00:00, 16.27it/s]\n",
            "100% 120/120 [00:02<00:00, 56.04it/s]\n",
            "100% 136/136 [00:08<00:00, 16.04it/s]\n",
            "100% 120/120 [00:02<00:00, 54.70it/s]\n",
            "100% 136/136 [00:08<00:00, 16.12it/s]\n",
            "100% 120/120 [00:02<00:00, 53.30it/s]\n",
            "100% 136/136 [00:08<00:00, 16.16it/s]\n",
            "100% 120/120 [00:02<00:00, 50.35it/s]\n",
            "100% 136/136 [00:08<00:00, 16.27it/s]\n",
            "100% 120/120 [00:02<00:00, 51.08it/s]\n",
            "100% 136/136 [00:08<00:00, 16.05it/s]\n",
            "100% 120/120 [00:02<00:00, 52.89it/s]\n",
            "100% 136/136 [00:08<00:00, 16.02it/s]\n",
            "100% 120/120 [00:02<00:00, 56.28it/s]\n",
            "100% 136/136 [00:08<00:00, 16.09it/s]\n",
            "100% 120/120 [00:02<00:00, 53.22it/s]\n",
            "100% 136/136 [00:08<00:00, 16.17it/s]\n",
            "100% 120/120 [00:02<00:00, 46.31it/s]\n",
            "100% 136/136 [00:08<00:00, 15.91it/s]\n",
            " 63% 76/120 [00:01<00:00, 67.08it/s]Exception ignored in: <function _MultiProcessingDataLoaderIter.__del__ at 0x7ce6524f7370>\n",
            "Traceback (most recent call last):\n",
            "  File \"/usr/local/lib/python3.10/dist-packages/torch/utils/data/dataloader.py\", line 1477, in __del__\n",
            "    self._shutdown_workers()\n",
            "  File \"/usr/local/lib/python3.10/dist-packages/torch/utils/data/dataloader.py\", line 1441, in _shutdown_workers\n",
            "    w.join(timeout=_utils.MP_STATUS_CHECK_INTERVAL)\n",
            "  File \"/usr/lib/python3.10/multiprocessing/process.py\", line 149, in join\n",
            "    res = self._popen.wait(timeout)\n",
            "  File \"/usr/lib/python3.10/multiprocessing/popen_fork.py\", line 40, in wait\n",
            "    if not wait([self.sentinel], timeout):\n",
            "  File \"/usr/lib/python3.10/multiprocessing/connection.py\", line 931, in wait\n",
            "    ready = selector.select(timeout)\n",
            "  File \"/usr/lib/python3.10/selectors.py\", line 416, in select\n",
            "    fd_event_list = self._selector.poll(timeout)\n",
            "KeyboardInterrupt: \n",
            " 68% 82/120 [00:01<00:00, 51.57it/s]\n",
            "Traceback (most recent call last):\n",
            "  File \"/content/github_repo/code/reproduce_results.py\", line 69, in <module>\n",
            "    main(datafolder = sys.argv[1], datafolder_icbeb = sys.argv[2], outputfolder = sys.argv[3])\n",
            "  File \"/content/github_repo/code/reproduce_results.py\", line 47, in main\n",
            "    e.perform()\n",
            "  File \"/content/github_repo/code/experiments/scp_experiment.py\", line 118, in perform\n",
            "    model.fit(self.X_train, self.y_train, self.X_val, self.y_val)\n",
            "  File \"/content/github_repo/code/models/fastai_model.py\", line 236, in fit\n",
            "    learn.fit_one_cycle(self.epochs,self.lr)#slice(self.lr) if self.discriminative_lrs else self.lr)\n",
            "  File \"/usr/local/lib/python3.10/dist-packages/fastai/train.py\", line 23, in fit_one_cycle\n",
            "    learn.fit(cyc_len, max_lr, wd=wd, callbacks=callbacks)\n",
            "  File \"/usr/local/lib/python3.10/dist-packages/fastai/basic_train.py\", line 203, in fit\n",
            "    fit(epochs, self, metrics=self.metrics, callbacks=self.callbacks+callbacks)\n",
            "  File \"/usr/local/lib/python3.10/dist-packages/fastai/basic_train.py\", line 108, in fit\n",
            "    val_loss = validate(learn.model, learn.data.valid_dl, loss_func=learn.loss_func,\n",
            "  File \"/usr/local/lib/python3.10/dist-packages/fastai/basic_train.py\", line 61, in validate\n",
            "    val_loss = loss_batch(model, xb, yb, loss_func, cb_handler=cb_handler)\n",
            "  File \"/usr/local/lib/python3.10/dist-packages/fastai/basic_train.py\", line 27, in loss_batch\n",
            "    out = model(*xb)\n",
            "  File \"/usr/local/lib/python3.10/dist-packages/torch/nn/modules/module.py\", line 1553, in _wrapped_call_impl\n",
            "    return self._call_impl(*args, **kwargs)\n",
            "  File \"/usr/local/lib/python3.10/dist-packages/torch/nn/modules/module.py\", line 1562, in _call_impl\n",
            "    return forward_call(*args, **kwargs)\n",
            "  File \"/usr/local/lib/python3.10/dist-packages/torch/nn/modules/container.py\", line 219, in forward\n",
            "    input = module(input)\n",
            "  File \"/usr/local/lib/python3.10/dist-packages/torch/nn/modules/module.py\", line 1553, in _wrapped_call_impl\n",
            "    return self._call_impl(*args, **kwargs)\n",
            "  File \"/usr/local/lib/python3.10/dist-packages/torch/nn/modules/module.py\", line 1562, in _call_impl\n",
            "    return forward_call(*args, **kwargs)\n",
            "  File \"/usr/local/lib/python3.10/dist-packages/torch/nn/modules/container.py\", line 219, in forward\n",
            "    input = module(input)\n",
            "  File \"/usr/local/lib/python3.10/dist-packages/torch/nn/modules/module.py\", line 1553, in _wrapped_call_impl\n",
            "    return self._call_impl(*args, **kwargs)\n",
            "  File \"/usr/local/lib/python3.10/dist-packages/torch/nn/modules/module.py\", line 1562, in _call_impl\n",
            "    return forward_call(*args, **kwargs)\n",
            "  File \"/content/github_repo/code/models/xresnet1d.py\", line 128, in forward\n",
            "    def forward(self, x): return self.act(self.convpath(x) + self.idpath(x))\n",
            "  File \"/usr/local/lib/python3.10/dist-packages/torch/nn/modules/module.py\", line 1553, in _wrapped_call_impl\n",
            "    return self._call_impl(*args, **kwargs)\n",
            "  File \"/usr/local/lib/python3.10/dist-packages/torch/nn/modules/module.py\", line 1562, in _call_impl\n",
            "    return forward_call(*args, **kwargs)\n",
            "  File \"/usr/local/lib/python3.10/dist-packages/torch/nn/modules/container.py\", line 219, in forward\n",
            "    input = module(input)\n",
            "  File \"/usr/local/lib/python3.10/dist-packages/torch/nn/modules/module.py\", line 1553, in _wrapped_call_impl\n",
            "    return self._call_impl(*args, **kwargs)\n",
            "  File \"/usr/local/lib/python3.10/dist-packages/torch/nn/modules/module.py\", line 1562, in _call_impl\n",
            "    return forward_call(*args, **kwargs)\n",
            "  File \"/usr/local/lib/python3.10/dist-packages/torch/nn/modules/container.py\", line 219, in forward\n",
            "    input = module(input)\n",
            "  File \"/usr/local/lib/python3.10/dist-packages/torch/nn/modules/module.py\", line 1553, in _wrapped_call_impl\n",
            "    return self._call_impl(*args, **kwargs)\n",
            "  File \"/usr/local/lib/python3.10/dist-packages/torch/nn/modules/module.py\", line 1562, in _call_impl\n",
            "    return forward_call(*args, **kwargs)\n",
            "  File \"/usr/local/lib/python3.10/dist-packages/torch/nn/modules/container.py\", line 219, in forward\n",
            "    input = module(input)\n",
            "  File \"/usr/local/lib/python3.10/dist-packages/torch/nn/modules/module.py\", line 1553, in _wrapped_call_impl\n",
            "    return self._call_impl(*args, **kwargs)\n",
            "  File \"/usr/local/lib/python3.10/dist-packages/torch/nn/modules/module.py\", line 1562, in _call_impl\n",
            "    return forward_call(*args, **kwargs)\n",
            "  File \"/usr/local/lib/python3.10/dist-packages/torch/nn/modules/conv.py\", line 308, in forward\n",
            "    return self._conv_forward(input, self.weight, self.bias)\n",
            "  File \"/usr/local/lib/python3.10/dist-packages/torch/nn/modules/conv.py\", line 304, in _conv_forward\n",
            "    return F.conv1d(input, weight, bias, self.stride,\n",
            "KeyboardInterrupt\n"
          ]
        }
      ],
      "source": [
        "!python /content/github_repo/code/reproduce_results.py '../../content/data/ptb-xl-a-large-publicly-available-electrocardiography-dataset-1.0.1/' '../data/ICBEB/' '../../content/drive/MyDrive/PTB-xl-output-next/'"
      ]
    },
    {
      "cell_type": "code",
      "execution_count": null,
      "id": "1986c1d6-8c33-4e71-bd39-31c25cd57af6",
      "metadata": {
        "id": "1986c1d6-8c33-4e71-bd39-31c25cd57af6"
      },
      "outputs": [],
      "source": [
        "sampling_frequency=100 #500\n",
        "datafolder='./data/ptb-xl-a-large-publicly-available-electrocardiography-dataset-1.0.1/'\n",
        "task='superdiagnostic'\n",
        "outputfolder='./'"
      ]
    },
    {
      "cell_type": "code",
      "execution_count": null,
      "id": "9565781f-afb0-4649-b3a3-8e39dd598ae2",
      "metadata": {
        "colab": {
          "base_uri": "https://localhost:8080/"
        },
        "id": "9565781f-afb0-4649-b3a3-8e39dd598ae2",
        "outputId": "835fcbf1-bab9-4997-fb54-b9fe10baaed1"
      },
      "outputs": [
        {
          "name": "stdout",
          "output_type": "stream",
          "text": [
            "Looking in indexes: https://pypi.org/simple, https://us-python.pkg.dev/colab-wheels/public/simple/\n",
            "Requirement already satisfied: wfdb in /usr/local/lib/python3.7/dist-packages (4.0.0)\n",
            "Requirement already satisfied: SoundFile<0.12.0,>=0.10.0 in /usr/local/lib/python3.7/dist-packages (from wfdb) (0.10.3.post1)\n",
            "Requirement already satisfied: pandas<2.0.0,>=1.0.0 in /usr/local/lib/python3.7/dist-packages (from wfdb) (1.3.5)\n",
            "Requirement already satisfied: numpy<2.0.0,>=1.10.1 in /usr/local/lib/python3.7/dist-packages (from wfdb) (1.21.6)\n",
            "Requirement already satisfied: scipy<2.0.0,>=1.0.0 in /usr/local/lib/python3.7/dist-packages (from wfdb) (1.7.3)\n",
            "Requirement already satisfied: matplotlib<4.0.0,>=3.2.2 in /usr/local/lib/python3.7/dist-packages (from wfdb) (3.2.2)\n",
            "Requirement already satisfied: requests<3.0.0,>=2.8.1 in /usr/local/lib/python3.7/dist-packages (from wfdb) (2.23.0)\n",
            "Requirement already satisfied: cycler>=0.10 in /usr/local/lib/python3.7/dist-packages (from matplotlib<4.0.0,>=3.2.2->wfdb) (0.11.0)\n",
            "Requirement already satisfied: python-dateutil>=2.1 in /usr/local/lib/python3.7/dist-packages (from matplotlib<4.0.0,>=3.2.2->wfdb) (2.8.2)\n",
            "Requirement already satisfied: pyparsing!=2.0.4,!=2.1.2,!=2.1.6,>=2.0.1 in /usr/local/lib/python3.7/dist-packages (from matplotlib<4.0.0,>=3.2.2->wfdb) (3.0.9)\n",
            "Requirement already satisfied: kiwisolver>=1.0.1 in /usr/local/lib/python3.7/dist-packages (from matplotlib<4.0.0,>=3.2.2->wfdb) (1.4.4)\n",
            "Requirement already satisfied: typing-extensions in /usr/local/lib/python3.7/dist-packages (from kiwisolver>=1.0.1->matplotlib<4.0.0,>=3.2.2->wfdb) (4.1.1)\n",
            "Requirement already satisfied: pytz>=2017.3 in /usr/local/lib/python3.7/dist-packages (from pandas<2.0.0,>=1.0.0->wfdb) (2022.2.1)\n",
            "Requirement already satisfied: six>=1.5 in /usr/local/lib/python3.7/dist-packages (from python-dateutil>=2.1->matplotlib<4.0.0,>=3.2.2->wfdb) (1.15.0)\n",
            "Requirement already satisfied: urllib3!=1.25.0,!=1.25.1,<1.26,>=1.21.1 in /usr/local/lib/python3.7/dist-packages (from requests<3.0.0,>=2.8.1->wfdb) (1.24.3)\n",
            "Requirement already satisfied: idna<3,>=2.5 in /usr/local/lib/python3.7/dist-packages (from requests<3.0.0,>=2.8.1->wfdb) (2.10)\n",
            "Requirement already satisfied: certifi>=2017.4.17 in /usr/local/lib/python3.7/dist-packages (from requests<3.0.0,>=2.8.1->wfdb) (2022.6.15)\n",
            "Requirement already satisfied: chardet<4,>=3.0.2 in /usr/local/lib/python3.7/dist-packages (from requests<3.0.0,>=2.8.1->wfdb) (3.0.4)\n",
            "Requirement already satisfied: cffi>=1.0 in /usr/local/lib/python3.7/dist-packages (from SoundFile<0.12.0,>=0.10.0->wfdb) (1.15.1)\n",
            "Requirement already satisfied: pycparser in /usr/local/lib/python3.7/dist-packages (from cffi>=1.0->SoundFile<0.12.0,>=0.10.0->wfdb) (2.21)\n"
          ]
        }
      ],
      "source": [
        "!pip install wfdb\n",
        "import wfdb"
      ]
    }
  ],
  "metadata": {
    "accelerator": "GPU",
    "colab": {
      "machine_shape": "hm",
      "name": "MI_detection_PTB-XL.ipynb",
      "provenance": []
    },
    "environment": {
      "kernel": "python3",
      "name": "tf2-gpu.2-8.m93",
      "type": "gcloud",
      "uri": "gcr.io/deeplearning-platform-release/tf2-gpu.2-8:m93"
    },
    "gpuClass": "standard",
    "kernelspec": {
      "display_name": "Python 3 (ipykernel)",
      "language": "python",
      "name": "python3"
    },
    "language_info": {
      "codemirror_mode": {
        "name": "ipython",
        "version": 3
      },
      "file_extension": ".py",
      "mimetype": "text/x-python",
      "name": "python",
      "nbconvert_exporter": "python",
      "pygments_lexer": "ipython3",
      "version": "3.7.12"
    }
  },
  "nbformat": 4,
  "nbformat_minor": 5
}