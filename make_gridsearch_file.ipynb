{
 "cells": [
  {
   "cell_type": "code",
   "execution_count": 1,
   "metadata": {
    "id": "_e4S68CJtRn4"
   },
   "outputs": [],
   "source": [
    "epochs = [15,20,25]\n",
    "batch_size = [16, 32, 64]\n",
    "init_lr = [0.001, 0.0001, 0.00001]\n",
    "lr_red = [\"yes\", \"no\"]\n",
    "model_depth = [6, 9, 12]\n",
    "loss = [\"bce\", \"wbce\"]\n",
    "kernel_size = [(20,10,5), (40,20,10), (60,30,15)]"
   ]
  },
  {
   "cell_type": "code",
   "execution_count": 3,
   "metadata": {
    "id": "BM3En7Scuji-"
   },
   "outputs": [],
   "source": [
    "import pandas as pd"
   ]
  },
  {
   "cell_type": "code",
   "execution_count": 11,
   "metadata": {
    "id": "q8ihRunfuWx5"
   },
   "outputs": [],
   "source": [
    "df = pd.DataFrame({\"epochs\": [], \"batch_size\":[], \"init_lr\": [], \"lr_red\": [], \"model_depth\": [],\"loss\": [], \"kernel_size\": []})"
   ]
  },
  {
   "cell_type": "code",
   "execution_count": 14,
   "metadata": {
    "id": "piCQhBa8uqGL"
   },
   "outputs": [],
   "source": [
    "for epoch in epochs:\n",
    "  for batch in batch_size:\n",
    "    for lr_val in init_lr:\n",
    "      for lr_onoff in lr_red:\n",
    "        for depth in model_depth:\n",
    "          for l in loss:\n",
    "            for ks in kernel_size:\n",
    "              df = df.append({\"epochs\": epoch, \"batch_size\":batch, \"init_lr\": lr_val, \"lr_red\": lr_onoff, \"model_depth\": depth,\"loss\": l, \"kernel_size\": ks}, ignore_index=True)"
   ]
  },
  {
   "cell_type": "code",
   "execution_count": 18,
   "metadata": {
    "id": "qmS2-3hMv0kp"
   },
   "outputs": [],
   "source": [
    "df.to_csv(\"gridsearch_params.csv\", index=False)"
   ]
  }
 ],
 "metadata": {
  "colab": {
   "provenance": []
  },
  "kernelspec": {
   "display_name": "Python 3 (ipykernel)",
   "language": "python",
   "name": "python3"
  },
  "language_info": {
   "name": "python"
  }
 },
 "nbformat": 4,
 "nbformat_minor": 1
}
