{
  "cells": [
    {
      "cell_type": "markdown",
      "metadata": {
        "id": "IG6fwukq5oSe"
      },
      "source": [
        "# Load your data\n",
        "\n",
        "Before finetuning a pretrained model of the experiments we provide in our repository (or precomputed and provided [here](https://datacloud.hhi.fraunhofer.de/nextcloud/s/NCjYws3mamLrkKq)), first load your custom 100 Hz sampled 12-lead ECG signal data `X` of shape `[N,L,12]` in Millivolts (mV) and multi-hot encoded labels `y` of shape `[N,C]` as numpy arrays, where `C` is the number of classes and `N` the number of total samples in this dataset. Although PTB-XL comes with fixed `L=1000` (i,e. 10 seconds), it is not required to be fixed, **BUT** the shortest sample must be longer than `input_size` of the specific model (e.g. 2.5 seconds for our fastai-models).\n",
        "\n",
        "For proper tinetuning split your data into four numpy arrays: `X_train`,`y_train`,`X_val` and `y_val`\n",
        "\n",
        "### Example: finetune model trained on all (71) on superdiagnostic (5)\n",
        "Below we provide an example for loading [PTB-XL](https://physionet.org/content/ptb-xl/1.0.1/) aggregated at the `superdiagnostic` level, where we use the provided folds for train-validation-split:"
      ]
    },
    {
      "cell_type": "code",
      "execution_count": 3,
      "metadata": {
        "colab": {
          "base_uri": "https://localhost:8080/"
        },
        "id": "0L-abXib6HkK",
        "outputId": "61aa2656-a0f0-49ce-a597-dd343bb689dc"
      },
      "outputs": [
        {
          "output_type": "stream",
          "name": "stdout",
          "text": [
            "Looking in indexes: https://pypi.org/simple, https://us-python.pkg.dev/colab-wheels/public/simple/\n",
            "Requirement already satisfied: wget in /usr/local/lib/python3.9/dist-packages (3.2)\n",
            "Requirement already satisfied: wfdb in /usr/local/lib/python3.9/dist-packages (4.1.0)\n",
            "Requirement already satisfied: tensorflow-addons in /usr/local/lib/python3.9/dist-packages (0.19.0)\n",
            "Requirement already satisfied: pandas<2.0.0,>=1.0.0 in /usr/local/lib/python3.9/dist-packages (from wfdb) (1.4.4)\n",
            "Requirement already satisfied: requests<3.0.0,>=2.8.1 in /usr/local/lib/python3.9/dist-packages (from wfdb) (2.27.1)\n",
            "Requirement already satisfied: SoundFile<0.12.0,>=0.10.0 in /usr/local/lib/python3.9/dist-packages (from wfdb) (0.11.0)\n",
            "Requirement already satisfied: scipy<2.0.0,>=1.0.0 in /usr/local/lib/python3.9/dist-packages (from wfdb) (1.10.1)\n",
            "Requirement already satisfied: numpy<2.0.0,>=1.10.1 in /usr/local/lib/python3.9/dist-packages (from wfdb) (1.24.2)\n",
            "Requirement already satisfied: matplotlib<4.0.0,>=3.2.2 in /usr/local/lib/python3.9/dist-packages (from wfdb) (3.7.1)\n",
            "Requirement already satisfied: typeguard>=2.7 in /usr/local/lib/python3.9/dist-packages (from tensorflow-addons) (3.0.2)\n",
            "Requirement already satisfied: packaging in /usr/local/lib/python3.9/dist-packages (from tensorflow-addons) (23.0)\n",
            "Requirement already satisfied: kiwisolver>=1.0.1 in /usr/local/lib/python3.9/dist-packages (from matplotlib<4.0.0,>=3.2.2->wfdb) (1.4.4)\n",
            "Requirement already satisfied: cycler>=0.10 in /usr/local/lib/python3.9/dist-packages (from matplotlib<4.0.0,>=3.2.2->wfdb) (0.11.0)\n",
            "Requirement already satisfied: contourpy>=1.0.1 in /usr/local/lib/python3.9/dist-packages (from matplotlib<4.0.0,>=3.2.2->wfdb) (1.0.7)\n",
            "Requirement already satisfied: fonttools>=4.22.0 in /usr/local/lib/python3.9/dist-packages (from matplotlib<4.0.0,>=3.2.2->wfdb) (4.39.2)\n",
            "Requirement already satisfied: importlib-resources>=3.2.0 in /usr/local/lib/python3.9/dist-packages (from matplotlib<4.0.0,>=3.2.2->wfdb) (5.12.0)\n",
            "Requirement already satisfied: pillow>=6.2.0 in /usr/local/lib/python3.9/dist-packages (from matplotlib<4.0.0,>=3.2.2->wfdb) (8.4.0)\n",
            "Requirement already satisfied: python-dateutil>=2.7 in /usr/local/lib/python3.9/dist-packages (from matplotlib<4.0.0,>=3.2.2->wfdb) (2.8.2)\n",
            "Requirement already satisfied: pyparsing>=2.3.1 in /usr/local/lib/python3.9/dist-packages (from matplotlib<4.0.0,>=3.2.2->wfdb) (3.0.9)\n",
            "Requirement already satisfied: pytz>=2020.1 in /usr/local/lib/python3.9/dist-packages (from pandas<2.0.0,>=1.0.0->wfdb) (2022.7.1)\n",
            "Requirement already satisfied: urllib3<1.27,>=1.21.1 in /usr/local/lib/python3.9/dist-packages (from requests<3.0.0,>=2.8.1->wfdb) (1.26.15)\n",
            "Requirement already satisfied: charset-normalizer~=2.0.0 in /usr/local/lib/python3.9/dist-packages (from requests<3.0.0,>=2.8.1->wfdb) (2.0.12)\n",
            "Requirement already satisfied: idna<4,>=2.5 in /usr/local/lib/python3.9/dist-packages (from requests<3.0.0,>=2.8.1->wfdb) (3.4)\n",
            "Requirement already satisfied: certifi>=2017.4.17 in /usr/local/lib/python3.9/dist-packages (from requests<3.0.0,>=2.8.1->wfdb) (2022.12.7)\n",
            "Requirement already satisfied: cffi>=1.0 in /usr/local/lib/python3.9/dist-packages (from SoundFile<0.12.0,>=0.10.0->wfdb) (1.15.1)\n",
            "Requirement already satisfied: importlib-metadata>=3.6 in /usr/local/lib/python3.9/dist-packages (from typeguard>=2.7->tensorflow-addons) (6.1.0)\n",
            "Requirement already satisfied: typing-extensions>=4.4.0 in /usr/local/lib/python3.9/dist-packages (from typeguard>=2.7->tensorflow-addons) (4.5.0)\n",
            "Requirement already satisfied: pycparser in /usr/local/lib/python3.9/dist-packages (from cffi>=1.0->SoundFile<0.12.0,>=0.10.0->wfdb) (2.21)\n",
            "Requirement already satisfied: zipp>=0.5 in /usr/local/lib/python3.9/dist-packages (from importlib-metadata>=3.6->typeguard>=2.7->tensorflow-addons) (3.15.0)\n",
            "Requirement already satisfied: six>=1.5 in /usr/local/lib/python3.9/dist-packages (from python-dateutil>=2.7->matplotlib<4.0.0,>=3.2.2->wfdb) (1.16.0)\n"
          ]
        }
      ],
      "source": [
        "!pip install wget wfdb tensorflow-addons"
      ]
    },
    {
      "cell_type": "code",
      "execution_count": 4,
      "metadata": {
        "colab": {
          "base_uri": "https://localhost:8080/"
        },
        "id": "Y4NQeLDBZUlm",
        "outputId": "1ecdd03f-a324-4889-a390-032358123033"
      },
      "outputs": [
        {
          "output_type": "stream",
          "name": "stdout",
          "text": [
            "Mounted at /content/drive\n"
          ]
        }
      ],
      "source": [
        "from google.colab import drive\n",
        "drive.mount(\"/content/drive\")"
      ]
    },
    {
      "cell_type": "code",
      "execution_count": 5,
      "metadata": {
        "id": "Jqxss_rS6Jxn"
      },
      "outputs": [],
      "source": [
        "import wget\n",
        "import numpy as np\n",
        "import os\n",
        "import zipfile\n",
        "import tensorflow as tf\n",
        "from sklearn.utils.class_weight import compute_class_weight\n",
        "import pandas as pd\n",
        "import seaborn as sns\n",
        "from sklearn.metrics import confusion_matrix\n",
        "import pickle\n",
        "import tensorflow_addons as tfa\n",
        "from sklearn.metrics import roc_auc_score\n",
        "from sklearn.model_selection import StratifiedKFold"
      ]
    },
    {
      "cell_type": "code",
      "execution_count": 6,
      "metadata": {
        "colab": {
          "base_uri": "https://localhost:8080/"
        },
        "id": "AcjcSuO06o-6",
        "outputId": "ba24cbd7-8791-4df2-8dcd-f28176ff5b68"
      },
      "outputs": [
        {
          "output_type": "stream",
          "name": "stdout",
          "text": [
            "--2023-03-28 06:32:23--  https://physionet.org/static/published-projects/ptb-xl/ptb-xl-a-large-publicly-available-electrocardiography-dataset-1.0.1.zip\n",
            "Resolving physionet.org (physionet.org)... 18.18.42.54\n",
            "Connecting to physionet.org (physionet.org)|18.18.42.54|:443... connected.\n",
            "HTTP request sent, awaiting response... 200 OK\n",
            "Length: 1842722380 (1.7G) [application/zip]\n",
            "Saving to: ‘ptb-xl-a-large-publicly-available-electrocardiography-dataset-1.0.1.zip’\n",
            "\n",
            "ptb-xl-a-large-publ 100%[===================>]   1.72G   704KB/s    in 39m 59s \n",
            "\n",
            "2023-03-28 07:12:22 (750 KB/s) - ‘ptb-xl-a-large-publicly-available-electrocardiography-dataset-1.0.1.zip’ saved [1842722380/1842722380]\n",
            "\n"
          ]
        }
      ],
      "source": [
        "!wget https://physionet.org/static/published-projects/ptb-xl/ptb-xl-a-large-publicly-available-electrocardiography-dataset-1.0.1.zip\n",
        "\n",
        "os.mkdir(\"./data/\")\n",
        "\n",
        "\n",
        "with zipfile.ZipFile(\"./ptb-xl-a-large-publicly-available-electrocardiography-dataset-1.0.1.zip\", 'r') as zip_ref:\n",
        "    zip_ref.extractall(\"./data/\")"
      ]
    },
    {
      "cell_type": "code",
      "execution_count": 7,
      "metadata": {
        "colab": {
          "base_uri": "https://localhost:8080/"
        },
        "id": "3Qv9hVm-5wyi",
        "outputId": "9491eee6-ec8c-4197-fdf1-2c86885dedd4"
      },
      "outputs": [
        {
          "output_type": "stream",
          "name": "stdout",
          "text": [
            "Looking in indexes: https://pypi.org/simple, https://us-python.pkg.dev/colab-wheels/public/simple/\n",
            "Collecting GitPython\n",
            "  Downloading GitPython-3.1.31-py3-none-any.whl (184 kB)\n",
            "\u001b[2K     \u001b[90m━━━━━━━━━━━━━━━━━━━━━━━━━━━━━━━━━━━━━━━\u001b[0m \u001b[32m184.3/184.3 KB\u001b[0m \u001b[31m5.4 MB/s\u001b[0m eta \u001b[36m0:00:00\u001b[0m\n",
            "\u001b[?25hCollecting gitdb<5,>=4.0.1\n",
            "  Downloading gitdb-4.0.10-py3-none-any.whl (62 kB)\n",
            "\u001b[2K     \u001b[90m━━━━━━━━━━━━━━━━━━━━━━━━━━━━━━━━━━━━━━━━\u001b[0m \u001b[32m62.7/62.7 KB\u001b[0m \u001b[31m8.2 MB/s\u001b[0m eta \u001b[36m0:00:00\u001b[0m\n",
            "\u001b[?25hCollecting smmap<6,>=3.0.1\n",
            "  Downloading smmap-5.0.0-py3-none-any.whl (24 kB)\n",
            "Installing collected packages: smmap, gitdb, GitPython\n",
            "Successfully installed GitPython-3.1.31 gitdb-4.0.10 smmap-5.0.0\n"
          ]
        }
      ],
      "source": [
        "!pip install GitPython\n",
        "from git import Repo"
      ]
    },
    {
      "cell_type": "code",
      "execution_count": 8,
      "metadata": {
        "id": "u4T-c5KI5y2W"
      },
      "outputs": [],
      "source": [
        "HTTPS_REMOTE_URL = 'https://github.com/Bsingstad/ecg_ptbxl_benchmarking.git'\n",
        "DEST_NAME = 'github_repo'"
      ]
    },
    {
      "cell_type": "code",
      "execution_count": 9,
      "metadata": {
        "colab": {
          "base_uri": "https://localhost:8080/"
        },
        "id": "r8hm-j6751kC",
        "outputId": "16d381b0-9ba6-4de6-8bce-6587ff9d8b0e"
      },
      "outputs": [
        {
          "output_type": "execute_result",
          "data": {
            "text/plain": [
              "<git.repo.base.Repo '/content/github_repo/.git'>"
            ]
          },
          "metadata": {},
          "execution_count": 9
        }
      ],
      "source": [
        "Repo.clone_from(HTTPS_REMOTE_URL, DEST_NAME)"
      ]
    },
    {
      "cell_type": "code",
      "execution_count": 10,
      "metadata": {
        "id": "SRUZICm6562J"
      },
      "outputs": [],
      "source": [
        "from github_repo.code import *\n",
        "%matplotlib inline\n",
        "%load_ext autoreload"
      ]
    },
    {
      "cell_type": "code",
      "execution_count": 11,
      "metadata": {
        "colab": {
          "base_uri": "https://localhost:8080/"
        },
        "id": "CmW7xaR_5oSf",
        "outputId": "a0c6929e-9631-4c0d-e1ae-03051df706ee"
      },
      "outputs": [
        {
          "output_type": "stream",
          "name": "stderr",
          "text": [
            "100%|██████████| 21837/21837 [01:05<00:00, 334.36it/s]\n"
          ]
        },
        {
          "output_type": "execute_result",
          "data": {
            "text/plain": [
              "((19267, 1000, 12), (19267, 5), (2163, 1000, 12), (2163, 5))"
            ]
          },
          "metadata": {},
          "execution_count": 11
        }
      ],
      "source": [
        "from github_repo.code.utils import utils\n",
        "\n",
        "sampling_frequency=100\n",
        "datafolder='./data/ptb-xl-a-large-publicly-available-electrocardiography-dataset-1.0.1/'\n",
        "task= 'superdiagnostic' # 'all' , 'diagnostic' , 'subdiagnostic', 'superdiagnostic', 'form', 'rhythm'\n",
        "outputfolder='./github_repo/output/'\n",
        "\n",
        "# Load PTB-XL data\n",
        "data, raw_labels = utils.load_dataset(datafolder, sampling_frequency)\n",
        "# Preprocess label data\n",
        "labels = utils.compute_label_aggregations(raw_labels, datafolder, task)\n",
        "# Select relevant data and convert to one-hot\n",
        "#data, labels, Y, _ = utils.select_data(data, labels, task, min_samples=0, outputfolder=outputfolder)\n",
        "\n",
        "data, labels, Y, _ = utils.select_data(data, labels, task, min_samples=0, outputfolder=outputfolder)\n",
        "\n",
        "# 1-9 for training \n",
        "X_train = data[labels.strat_fold < 10]\n",
        "y_train = Y[labels.strat_fold < 10]\n",
        "# 10 for validation\n",
        "X_val = data[labels.strat_fold == 10]\n",
        "y_val = Y[labels.strat_fold == 10]\n",
        "\n",
        "num_classes = y_train.shape[1]    # <=== number of classes in the finetuning dataset\n",
        "input_shape = [1000,12] # <=== shape of samples, [None, 12] in case of different lengths\n",
        "\n",
        "X_train.shape, y_train.shape, X_val.shape, y_val.shape"
      ]
    },
    {
      "cell_type": "code",
      "execution_count": 12,
      "metadata": {
        "colab": {
          "base_uri": "https://localhost:8080/",
          "height": 265
        },
        "id": "DIKpffEJMllK",
        "outputId": "8c22fd61-1e45-4dbf-e8fd-7e094a3a89de"
      },
      "outputs": [
        {
          "output_type": "display_data",
          "data": {
            "text/plain": [
              "<Figure size 432x288 with 1 Axes>"
            ],
            "image/png": "[encoded data removed]"
          },
          "metadata": {
            "needs_background": "light"
          }
        }
      ],
      "source": [
        "import matplotlib.pyplot as plt\n",
        "\n",
        "plt.bar(np.unique(y_train.argmax(axis=1),return_counts=True)[0],np.unique(y_train.argmax(axis=1),return_counts=True)[1])\n",
        "plt.show()"
      ]
    },
    {
      "cell_type": "code",
      "execution_count": 13,
      "metadata": {
        "id": "-a6LeAwqOm_i"
      },
      "outputs": [],
      "source": [
        "from sklearn.model_selection import train_test_split\n",
        "\n",
        "_, X_grid, _, y_grid= train_test_split(X_train, y_train, test_size=0.10, random_state=42)"
      ]
    },
    {
      "cell_type": "code",
      "execution_count": 14,
      "metadata": {
        "colab": {
          "base_uri": "https://localhost:8080/"
        },
        "id": "QW5xSWezMWo-",
        "outputId": "a17b552a-4e2c-4900-df2f-22c0ce9a6f41"
      },
      "outputs": [
        {
          "output_type": "execute_result",
          "data": {
            "text/plain": [
              "(1927, 1000, 12)"
            ]
          },
          "metadata": {},
          "execution_count": 14
        }
      ],
      "source": [
        "X_grid.shape"
      ]
    },
    {
      "cell_type": "code",
      "execution_count": 15,
      "metadata": {
        "colab": {
          "base_uri": "https://localhost:8080/",
          "height": 265
        },
        "id": "fDz352LpQNds",
        "outputId": "ecfc7875-1aa0-4b3c-9b3a-fa00ec07253c"
      },
      "outputs": [
        {
          "output_type": "display_data",
          "data": {
            "text/plain": [
              "<Figure size 432x288 with 1 Axes>"
            ],
            "image/png": "[encoded data removed]"
          },
          "metadata": {
            "needs_background": "light"
          }
        }
      ],
      "source": [
        "plt.bar(np.unique(y_grid.argmax(axis=1),return_counts=True)[0],np.unique(y_grid.argmax(axis=1),return_counts=True)[1])\n",
        "plt.show()"
      ]
    },
    {
      "cell_type": "markdown",
      "metadata": {
        "id": "1UyIF9kv5oSg"
      },
      "source": [
        "# Train or download models\n",
        "There are two possibilities:\n",
        "   1. Run the experiments as described in README. Afterwards you find trained in models in `output/expX/models/`\n",
        "   2. Download the precomputed `output`-folder with all experiments and models from [here]((https://datacloud.hhi.fraunhofer.de/nextcloud/s/NCjYws3mamLrkKq))\n",
        "\n",
        "# Load pretrained model\n",
        "\n",
        "For loading a pretrained model:\n",
        "   1. specify `modelname` which can be seen in `code/configs/` (e.g. `modelname='fastai_xresnet1d101'`)\n",
        "   2. provide `experiment` to build the path `pretrainedfolder` (here: `exp0` refers to the experiment with `all` 71 SCP-statements)\n",
        "   \n",
        "This returns the pretrained model where the classification is replaced by a random initialized head with the same number of outputs as the number of classes."
      ]
    },
    {
      "cell_type": "code",
      "execution_count": 16,
      "metadata": {
        "id": "kg7-fD1ocLBB"
      },
      "outputs": [],
      "source": [
        "from github_repo.code.models.base_model import ClassificationModel\n",
        "import tensorflow as tf\n",
        "import numpy as np\n",
        "import tensorflow_addons as tfa\n",
        "\n",
        "        \n",
        "class inception_time_model(ClassificationModel):\n",
        "    def __init__(self, name, n_classes,  sampling_frequency, outputfolder, input_shape, epoch=30, batch_size=32, lr_init = 0.001, lr_red=\"yes\", model_depth=6, loss=\"bce\", kernel_size=40, bottleneck_size=32, nb_filters=32, clf=\"binary\", verbose=0):\n",
        "        super(inception_time_model, self).__init__()\n",
        "        self.name = name\n",
        "        self.n_classes = n_classes\n",
        "        self.sampling_frequency = sampling_frequency\n",
        "        self.outputfolder = outputfolder\n",
        "        self.input_shape = input_shape\n",
        "        if loss == \"bce\":\n",
        "          self.loss = tf.keras.losses.BinaryCrossentropy()\n",
        "        elif loss == \"wbce\":\n",
        "          self.loss = tfa.losses.SigmoidFocalCrossEntropy() #focal instead of weighted bce\n",
        "        self.model = build_model((self.sampling_frequency*10,12),self.n_classes,lr_init = lr_init, depth=model_depth, kernel_size=kernel_size, bottleneck_size=bottleneck_size, nb_filters=nb_filters,clf=clf, loss=self.loss)\n",
        "        self.epoch = epoch\n",
        "        self.batch_size = batch_size\n",
        "        self.lr_red = lr_red\n",
        "        self.verbose = verbose\n",
        "\n",
        "        \n",
        "        \n",
        "\n",
        "    def fit(self, X_train, y_train, X_val, y_val):\n",
        "\n",
        "        if self.lr_red == \"no\":\n",
        "            self.model.fit(X_train, y_train, epochs=self.epoch, batch_size=self.batch_size, \n",
        "            validation_data=(X_val, y_val), verbose=self.verbose)\n",
        "        elif self.lr_red == \"yes\":\n",
        "            self.model.fit(X_train, y_train, epochs=self.epoch, batch_size=self.batch_size, \n",
        "            validation_data=(X_val, y_val), verbose=self.verbose,\n",
        "            callbacks = [tf.keras.callbacks.LearningRateScheduler(scheduler, verbose=0)])\n",
        "        else:\n",
        "            print(\"Error: wrong lr_red argument\")\n",
        "\n",
        "    \n",
        "    def fit_tf(self, traindata, valdata):\n",
        "\n",
        "        if self.lr_red == \"no\":\n",
        "            self.model.fit(traindata, epochs=self.epoch, batch_size=self.batch_size, \n",
        "            validation_data=valdata, verbose=self.verbose)\n",
        "        elif self.lr_red == \"yes\":\n",
        "            self.model.fit(traindata, epochs=self.epoch, batch_size=self.batch_size, \n",
        "            validation_data=valdata, verbose=self.verbose,\n",
        "            callbacks = [tf.keras.callbacks.LearningRateScheduler(scheduler, verbose=0)])\n",
        "        else:\n",
        "            print(\"Error: wrong lr_red argument\")\n",
        "\n",
        "        #self.model.save(self.outputfolder +'last_model.h5')\n",
        "    def predict(self, X):\n",
        "        return self.model.predict(X)\n",
        "\n",
        "\n",
        "def _inception_module(input_tensor, stride=1, activation='linear', use_bottleneck=True, kernel_size=40, bottleneck_size=32, nb_filters=32):\n",
        "\n",
        "    if use_bottleneck and int(input_tensor.shape[-1]) > 1:\n",
        "        input_inception = tf.keras.layers.Conv1D(filters=bottleneck_size, kernel_size=1,\n",
        "                                              padding='same', activation=activation, use_bias=False)(input_tensor)\n",
        "    else:\n",
        "        input_inception = input_tensor\n",
        "\n",
        "    # kernel_size_s = [3, 5, 8, 11, 17]\n",
        "    kernel_size_s = [kernel_size // (2 ** i) for i in range(3)]\n",
        "\n",
        "    conv_list = []\n",
        "\n",
        "    for i in range(len(kernel_size_s)):\n",
        "        conv_list.append(tf.keras.layers.Conv1D(filters=nb_filters, kernel_size=kernel_size_s[i],\n",
        "                                              strides=stride, padding='same', activation=activation, use_bias=False)(\n",
        "            input_inception))\n",
        "\n",
        "    max_pool_1 = tf.keras.layers.MaxPool1D(pool_size=3, strides=stride, padding='same')(input_tensor)\n",
        "\n",
        "    conv_6 = tf.keras.layers.Conv1D(filters=nb_filters, kernel_size=1,\n",
        "                                  padding='same', activation=activation, use_bias=False)(max_pool_1)\n",
        "\n",
        "    conv_list.append(conv_6)\n",
        "\n",
        "    x = tf.keras.layers.Concatenate(axis=2)(conv_list)\n",
        "    x = tf.keras.layers.BatchNormalization()(x)\n",
        "    x = tf.keras.layers.Activation(activation='relu')(x)\n",
        "    return x\n",
        "\n",
        "def _shortcut_layer(input_tensor, out_tensor):\n",
        "    shortcut_y = tf.keras.layers.Conv1D(filters=int(out_tensor.shape[-1]), kernel_size=1,\n",
        "                                      padding='same', use_bias=False)(input_tensor)\n",
        "    shortcut_y = tf.keras.layers.BatchNormalization()(shortcut_y)\n",
        "\n",
        "    x = tf.keras.layers.Add()([shortcut_y, out_tensor])\n",
        "    x = tf.keras.layers.Activation('relu')(x)\n",
        "    return x\n",
        "\n",
        "def build_model(input_shape, nb_classes, depth=6, use_residual=True, lr_init = 0.001, kernel_size=40, bottleneck_size=32, nb_filters=32, clf=\"binary\", loss=tf.keras.losses.BinaryCrossentropy()):\n",
        "    input_layer = tf.keras.layers.Input(input_shape)\n",
        "\n",
        "    x = input_layer\n",
        "    input_res = input_layer\n",
        "\n",
        "    for d in range(depth):\n",
        "\n",
        "        x = _inception_module(x,kernel_size = kernel_size, bottleneck_size=bottleneck_size, nb_filters=nb_filters)\n",
        "\n",
        "        if use_residual and d % 3 == 2:\n",
        "            x = _shortcut_layer(input_res, x)\n",
        "            input_res = x\n",
        "\n",
        "    gap_layer = tf.keras.layers.GlobalAveragePooling1D()(x)\n",
        "\n",
        "    output_layer = tf.keras.layers.Dense(units=nb_classes,activation='sigmoid')(gap_layer)  \n",
        "    model = tf.keras.models.Model(inputs=input_layer, outputs=output_layer)\n",
        "    model.compile(loss=loss,\n",
        "                  optimizer=tf.keras.optimizers.Adam(learning_rate=lr_init), \n",
        "                  metrics=[tf.keras.metrics.BinaryAccuracy(),\n",
        "                          tf.keras.metrics.AUC(\n",
        "                        num_thresholds=200,\n",
        "                        curve='ROC',\n",
        "                        summation_method='interpolation',\n",
        "                        name=\"ROC\",\n",
        "                        multi_label=True,\n",
        "                        ),\n",
        "                      tf.keras.metrics.AUC(\n",
        "                        num_thresholds=200,\n",
        "                        curve='PR',\n",
        "                        summation_method='interpolation',\n",
        "                        name=\"PRC\",\n",
        "                        multi_label=True,\n",
        "                        )\n",
        "              ])\n",
        "    print(\"Inception model built.\")\n",
        "    return model\n",
        "\n",
        "def scheduler(epoch, lr):\n",
        "    if epoch % 5 == 0:\n",
        "        return lr*0.1\n",
        "    else:\n",
        "        return lr\n"
      ]
    },
    {
      "cell_type": "code",
      "execution_count": 17,
      "metadata": {
        "colab": {
          "base_uri": "https://localhost:8080/"
        },
        "id": "cEx-BdLJ5oSh",
        "outputId": "597463e5-ead4-40ab-8850-a6b75e65be89"
      },
      "outputs": [
        {
          "output_type": "stream",
          "name": "stdout",
          "text": [
            "Inception model built.\n"
          ]
        }
      ],
      "source": [
        "#from github_repo.code.models.your_model import inception_time_model\n",
        "\n",
        "# change first line in your_model.py to from github_repo.code.models.base_model import ClassificationModel\n",
        "\n",
        "experiment = 'exp0'\n",
        "modelname = 'fastai_xresnet1d101'\n",
        "pretrainedfolder = '../output/'+experiment+'/models/'+modelname+'/'\n",
        "mpath='../output/' # <=== path where the finetuned model will be stored\n",
        "n_classes_pretrained = 71 # <=== because we load the model from exp0, this should be fixed because this depends the experiment\n",
        "\n",
        "model = inception_time_model(\"tf_inception\", num_classes, sampling_frequency, mpath, input_shape)\n",
        "\n",
        "#model = fastai_model(\n",
        "#    modelname, \n",
        "#    num_classes, \n",
        "#    sampling_frequency, \n",
        "#    mpath, \n",
        "#    input_shape=input_shape, \n",
        "#    pretrainedfolder=pretrainedfolder,\n",
        "#    n_classes_pretrained=n_classes_pretrained, \n",
        "#    pretrained=True,\n",
        "#    epochs_finetuning=2,\n",
        "#)"
      ]
    },
    {
      "cell_type": "markdown",
      "metadata": {
        "id": "V6dtMWU15oSh"
      },
      "source": [
        "\n",
        "\n",
        "\n",
        "\n",
        "\n",
        "\n",
        "\n",
        "\n",
        "\n",
        "\n",
        "# Preprocess data with pretrained Standardizer\n",
        "\n",
        "Since we standardize inputs to zero mean and unit variance, your custom data needs to be standardized with the respective mean and variance. This is also provided in the respective experiment folder `output/expX/data/standard_scaler.pkl`"
      ]
    },
    {
      "cell_type": "code",
      "execution_count": 18,
      "metadata": {
        "id": "uqSSsK_V5oSh"
      },
      "outputs": [],
      "source": [
        "import pickle\n",
        "from github_repo.code.utils import utils\n",
        "\n",
        "#standard_scaler = pickle.load(open('./github_repo/output/'+experiment+'/data/standard_scaler.pkl', \"rb\"))\n",
        "\n",
        "#X_grid = utils.apply_standardizer(X_grid, standard_scaler)\n",
        "#X_val = utils.apply_standardizer(X_val, standard_scaler)"
      ]
    },
    {
      "cell_type": "code",
      "execution_count": 19,
      "metadata": {
        "id": "lOSQURgFUycV"
      },
      "outputs": [],
      "source": [
        "from sklearn.preprocessing import StandardScaler, MultiLabelBinarizer\n",
        "\n",
        "def apply_standardizer(X, ss):\n",
        "    X_tmp = []\n",
        "    for x in X:\n",
        "        x_shape = x.shape\n",
        "        X_tmp.append(ss.transform(x.flatten()[:,np.newaxis]).reshape(x_shape))\n",
        "    X_tmp = np.array(X_tmp)\n",
        "    return X_tmp\n",
        "\n",
        "def preprocess_signals(X_train, X_validation):\n",
        "    # Standardize data such that mean 0 and variance 1\n",
        "    ss = StandardScaler()\n",
        "    ss.fit(np.vstack(X_train).flatten()[:,np.newaxis].astype(float))\n",
        "  \n",
        "    return apply_standardizer(X_train, ss), apply_standardizer(X_validation, ss)\n"
      ]
    },
    {
      "cell_type": "markdown",
      "metadata": {
        "id": "vfdlaRZr5oSh"
      },
      "source": [
        "# Finetune model\n",
        "\n",
        "Calling `model.fit` of a model with `pretrained=True` will perform finetuning as proposed in our work i.e. **gradual unfreezing and discriminative learning rates**. "
      ]
    },
    {
      "cell_type": "code",
      "execution_count": 20,
      "metadata": {
        "colab": {
          "base_uri": "https://localhost:8080/"
        },
        "id": "PlLyg3zHQVFh",
        "outputId": "8e2094e3-7a8c-4dbf-c8c9-b4236277b33a"
      },
      "outputs": [
        {
          "output_type": "stream",
          "name": "stdout",
          "text": [
            "All devices:  [LogicalDevice(name='/job:worker/replica:0/task:0/device:TPU:0', device_type='TPU'), LogicalDevice(name='/job:worker/replica:0/task:0/device:TPU:1', device_type='TPU'), LogicalDevice(name='/job:worker/replica:0/task:0/device:TPU:2', device_type='TPU'), LogicalDevice(name='/job:worker/replica:0/task:0/device:TPU:3', device_type='TPU'), LogicalDevice(name='/job:worker/replica:0/task:0/device:TPU:4', device_type='TPU'), LogicalDevice(name='/job:worker/replica:0/task:0/device:TPU:5', device_type='TPU'), LogicalDevice(name='/job:worker/replica:0/task:0/device:TPU:6', device_type='TPU'), LogicalDevice(name='/job:worker/replica:0/task:0/device:TPU:7', device_type='TPU')]\n"
          ]
        }
      ],
      "source": [
        "resolver = tf.distribute.cluster_resolver.TPUClusterResolver(tpu='')\n",
        "tf.config.experimental_connect_to_cluster(resolver)\n",
        "# This is the TPU initialization code that has to be at the beginning.\n",
        "tf.tpu.experimental.initialize_tpu_system(resolver)\n",
        "print(\"All devices: \", tf.config.list_logical_devices('TPU'))\n",
        "strategy = tf.distribute.TPUStrategy(resolver)"
      ]
    },
    {
      "cell_type": "code",
      "execution_count": null,
      "metadata": {
        "colab": {
          "base_uri": "https://localhost:8080/"
        },
        "id": "MxzCOgaP5oSi",
        "outputId": "47708ddc-db9a-481e-e4f1-e1a2205739a1"
      },
      "outputs": [
        {
          "metadata": {
            "tags": null
          },
          "name": "stdout",
          "output_type": "stream",
          "text": [
            "Running gridsearch nr 773 of 972...\n",
            "Inception model built.\n",
            "21/21 [==============================] - 6s 230ms/step\n",
            "Score CV 1 :    macro_auc\n",
            "0   0.875927 (AUROC score)\n",
            "Inception model built.\n",
            "21/21 [==============================] - 6s 234ms/step\n",
            "Score CV 2 :    macro_auc\n",
            "0   0.879164 (AUROC score)\n",
            "Inception model built.\n",
            "21/21 [==============================] - 6s 237ms/step\n",
            "Score CV 3 :    macro_auc\n",
            "0   0.893471 (AUROC score)\n",
            "Running gridsearch nr 774 of 972...\n"
          ]
        },
        {
          "metadata": {
            "tags": null
          },
          "name": "stderr",
          "output_type": "stream",
          "text": [
            "<ipython-input-21-50aa284c1fa0>:39: FutureWarning: The frame.append method is deprecated and will be removed from pandas in a future version. Use pandas.concat instead.\n",
            "  df_score=df_score.append(df_grid.loc[gsr])\n"
          ]
        },
        {
          "metadata": {
            "tags": null
          },
          "name": "stdout",
          "output_type": "stream",
          "text": [
            "Inception model built.\n",
            "21/21 [==============================] - 3s 109ms/step\n",
            "Score CV 1 :    macro_auc\n",
            "0   0.851221 (AUROC score)\n",
            "Inception model built.\n",
            "21/21 [==============================] - 3s 109ms/step\n",
            "Score CV 2 :    macro_auc\n",
            "0   0.873682 (AUROC score)\n",
            "Inception model built.\n",
            "21/21 [==============================] - 3s 109ms/step\n",
            "Score CV 3 :    macro_auc\n",
            "0   0.868266 (AUROC score)\n",
            "Running gridsearch nr 775 of 972...\n"
          ]
        },
        {
          "metadata": {
            "tags": null
          },
          "name": "stderr",
          "output_type": "stream",
          "text": [
            "<ipython-input-21-50aa284c1fa0>:39: FutureWarning: The frame.append method is deprecated and will be removed from pandas in a future version. Use pandas.concat instead.\n",
            "  df_score=df_score.append(df_grid.loc[gsr])\n"
          ]
        },
        {
          "metadata": {
            "tags": null
          },
          "name": "stdout",
          "output_type": "stream",
          "text": [
            "Inception model built.\n",
            "21/21 [==============================] - 4s 128ms/step\n",
            "Score CV 1 :    macro_auc\n",
            "0   0.877054 (AUROC score)\n",
            "Inception model built.\n",
            "21/21 [==============================] - 4s 128ms/step\n",
            "Score CV 2 :    macro_auc\n",
            "0    0.88111 (AUROC score)\n",
            "Inception model built.\n",
            "21/21 [==============================] - 4s 129ms/step\n",
            "Score CV 3 :    macro_auc\n",
            "0   0.890032 (AUROC score)\n",
            "Running gridsearch nr 776 of 972...\n"
          ]
        },
        {
          "metadata": {
            "tags": null
          },
          "name": "stderr",
          "output_type": "stream",
          "text": [
            "<ipython-input-21-50aa284c1fa0>:39: FutureWarning: The frame.append method is deprecated and will be removed from pandas in a future version. Use pandas.concat instead.\n",
            "  df_score=df_score.append(df_grid.loc[gsr])\n"
          ]
        },
        {
          "metadata": {
            "tags": null
          },
          "name": "stdout",
          "output_type": "stream",
          "text": [
            "Inception model built.\n",
            "21/21 [==============================] - 5s 176ms/step\n",
            "Score CV 1 :    macro_auc\n",
            "0   0.859853 (AUROC score)\n",
            "Inception model built.\n",
            "21/21 [==============================] - 5s 177ms/step\n",
            "Score CV 2 :    macro_auc\n",
            "0   0.865822 (AUROC score)\n",
            "Inception model built.\n",
            "21/21 [==============================] - 5s 176ms/step\n",
            "Score CV 3 :    macro_auc\n",
            "0   0.857429 (AUROC score)\n",
            "Running gridsearch nr 777 of 972...\n"
          ]
        },
        {
          "metadata": {
            "tags": null
          },
          "name": "stderr",
          "output_type": "stream",
          "text": [
            "<ipython-input-21-50aa284c1fa0>:39: FutureWarning: The frame.append method is deprecated and will be removed from pandas in a future version. Use pandas.concat instead.\n",
            "  df_score=df_score.append(df_grid.loc[gsr])\n"
          ]
        },
        {
          "metadata": {
            "tags": null
          },
          "name": "stdout",
          "output_type": "stream",
          "text": [
            "Inception model built.\n",
            "21/21 [==============================] - 3s 112ms/step\n",
            "Score CV 1 :    macro_auc\n",
            "0   0.879027 (AUROC score)\n",
            "Inception model built.\n",
            "21/21 [==============================] - 3s 108ms/step\n",
            "Score CV 2 :    macro_auc\n",
            "0   0.872127 (AUROC score)\n",
            "Inception model built.\n",
            "21/21 [==============================] - 3s 111ms/step\n",
            "Score CV 3 :    macro_auc\n",
            "0   0.887514 (AUROC score)\n",
            "Running gridsearch nr 778 of 972...\n"
          ]
        },
        {
          "metadata": {
            "tags": null
          },
          "name": "stderr",
          "output_type": "stream",
          "text": [
            "<ipython-input-21-50aa284c1fa0>:39: FutureWarning: The frame.append method is deprecated and will be removed from pandas in a future version. Use pandas.concat instead.\n",
            "  df_score=df_score.append(df_grid.loc[gsr])\n"
          ]
        },
        {
          "metadata": {
            "tags": null
          },
          "name": "stdout",
          "output_type": "stream",
          "text": [
            "Inception model built.\n",
            "21/21 [==============================] - 4s 127ms/step\n",
            "Score CV 1 :    macro_auc\n",
            "0   0.870224 (AUROC score)\n",
            "Inception model built.\n",
            "21/21 [==============================] - 4s 128ms/step\n",
            "Score CV 2 :    macro_auc\n",
            "0   0.875355 (AUROC score)\n",
            "Inception model built.\n",
            "21/21 [==============================] - 4s 130ms/step\n",
            "Score CV 3 :    macro_auc\n",
            "0   0.876755 (AUROC score)\n",
            "Running gridsearch nr 779 of 972...\n"
          ]
        },
        {
          "metadata": {
            "tags": null
          },
          "name": "stderr",
          "output_type": "stream",
          "text": [
            "<ipython-input-21-50aa284c1fa0>:39: FutureWarning: The frame.append method is deprecated and will be removed from pandas in a future version. Use pandas.concat instead.\n",
            "  df_score=df_score.append(df_grid.loc[gsr])\n"
          ]
        },
        {
          "metadata": {
            "tags": null
          },
          "name": "stdout",
          "output_type": "stream",
          "text": [
            "Inception model built.\n",
            "21/21 [==============================] - 5s 180ms/step\n",
            "Score CV 1 :    macro_auc\n",
            "0   0.880301 (AUROC score)\n",
            "Inception model built.\n",
            "21/21 [==============================] - 5s 178ms/step\n",
            "Score CV 2 :    macro_auc\n",
            "0   0.883572 (AUROC score)\n",
            "Inception model built.\n",
            "21/21 [==============================] - 5s 183ms/step\n",
            "Score CV 3 :    macro_auc\n",
            "0   0.862774 (AUROC score)\n",
            "Running gridsearch nr 780 of 972...\n"
          ]
        },
        {
          "metadata": {
            "tags": null
          },
          "name": "stderr",
          "output_type": "stream",
          "text": [
            "<ipython-input-21-50aa284c1fa0>:39: FutureWarning: The frame.append method is deprecated and will be removed from pandas in a future version. Use pandas.concat instead.\n",
            "  df_score=df_score.append(df_grid.loc[gsr])\n"
          ]
        },
        {
          "metadata": {
            "tags": null
          },
          "name": "stdout",
          "output_type": "stream",
          "text": [
            "Inception model built.\n",
            "21/21 [==============================] - 5s 137ms/step\n",
            "Score CV 1 :    macro_auc\n",
            "0   0.876724 (AUROC score)\n",
            "Inception model built.\n",
            "21/21 [==============================] - 4s 134ms/step\n",
            "Score CV 2 :    macro_auc\n",
            "0   0.868919 (AUROC score)\n",
            "Inception model built.\n",
            "21/21 [==============================] - 5s 136ms/step\n",
            "Score CV 3 :    macro_auc\n",
            "0   0.860753 (AUROC score)\n",
            "Running gridsearch nr 781 of 972...\n"
          ]
        },
        {
          "metadata": {
            "tags": null
          },
          "name": "stderr",
          "output_type": "stream",
          "text": [
            "<ipython-input-21-50aa284c1fa0>:39: FutureWarning: The frame.append method is deprecated and will be removed from pandas in a future version. Use pandas.concat instead.\n",
            "  df_score=df_score.append(df_grid.loc[gsr])\n"
          ]
        },
        {
          "metadata": {
            "tags": null
          },
          "name": "stdout",
          "output_type": "stream",
          "text": [
            "Inception model built.\n",
            "21/21 [==============================] - 4s 154ms/step\n",
            "Score CV 1 :    macro_auc\n",
            "0   0.872357 (AUROC score)\n",
            "Inception model built.\n",
            "21/21 [==============================] - 4s 154ms/step\n",
            "Score CV 2 :    macro_auc\n",
            "0   0.849907 (AUROC score)\n",
            "Inception model built.\n",
            "21/21 [==============================] - 4s 153ms/step\n",
            "Score CV 3 :    macro_auc\n",
            "0   0.871234 (AUROC score)\n",
            "Running gridsearch nr 782 of 972...\n"
          ]
        },
        {
          "metadata": {
            "tags": null
          },
          "name": "stderr",
          "output_type": "stream",
          "text": [
            "<ipython-input-21-50aa284c1fa0>:39: FutureWarning: The frame.append method is deprecated and will be removed from pandas in a future version. Use pandas.concat instead.\n",
            "  df_score=df_score.append(df_grid.loc[gsr])\n"
          ]
        },
        {
          "metadata": {
            "tags": null
          },
          "name": "stdout",
          "output_type": "stream",
          "text": [
            "Inception model built.\n",
            "21/21 [==============================] - 5s 210ms/step\n",
            "Score CV 1 :    macro_auc\n",
            "0   0.863062 (AUROC score)\n",
            "Inception model built.\n",
            "21/21 [==============================] - 5s 210ms/step\n",
            "Score CV 2 :    macro_auc\n",
            "0   0.873208 (AUROC score)\n",
            "Inception model built.\n",
            "21/21 [==============================] - 5s 206ms/step\n",
            "Score CV 3 :    macro_auc\n",
            "0   0.870427 (AUROC score)\n",
            "Running gridsearch nr 783 of 972...\n"
          ]
        },
        {
          "metadata": {
            "tags": null
          },
          "name": "stderr",
          "output_type": "stream",
          "text": [
            "<ipython-input-21-50aa284c1fa0>:39: FutureWarning: The frame.append method is deprecated and will be removed from pandas in a future version. Use pandas.concat instead.\n",
            "  df_score=df_score.append(df_grid.loc[gsr])\n"
          ]
        },
        {
          "metadata": {
            "tags": null
          },
          "name": "stdout",
          "output_type": "stream",
          "text": [
            "Inception model built.\n",
            "21/21 [==============================] - 4s 137ms/step\n",
            "Score CV 1 :    macro_auc\n",
            "0   0.862762 (AUROC score)\n",
            "Inception model built.\n",
            "21/21 [==============================] - 4s 135ms/step\n",
            "Score CV 2 :    macro_auc\n",
            "0   0.866377 (AUROC score)\n",
            "Inception model built.\n",
            "21/21 [==============================] - 4s 135ms/step\n",
            "Score CV 3 :    macro_auc\n",
            "0   0.876808 (AUROC score)\n",
            "Running gridsearch nr 784 of 972...\n"
          ]
        },
        {
          "metadata": {
            "tags": null
          },
          "name": "stderr",
          "output_type": "stream",
          "text": [
            "<ipython-input-21-50aa284c1fa0>:39: FutureWarning: The frame.append method is deprecated and will be removed from pandas in a future version. Use pandas.concat instead.\n",
            "  df_score=df_score.append(df_grid.loc[gsr])\n"
          ]
        },
        {
          "metadata": {
            "tags": null
          },
          "name": "stdout",
          "output_type": "stream",
          "text": [
            "Inception model built.\n",
            "21/21 [==============================] - 4s 155ms/step\n",
            "Score CV 1 :    macro_auc\n",
            "0   0.856176 (AUROC score)\n",
            "Inception model built.\n",
            "21/21 [==============================] - 4s 157ms/step\n",
            "Score CV 2 :    macro_auc\n",
            "0   0.866409 (AUROC score)\n",
            "Inception model built.\n",
            "21/21 [==============================] - 4s 156ms/step\n",
            "Score CV 3 :    macro_auc\n",
            "0   0.888049 (AUROC score)\n",
            "Running gridsearch nr 785 of 972...\n"
          ]
        },
        {
          "metadata": {
            "tags": null
          },
          "name": "stderr",
          "output_type": "stream",
          "text": [
            "<ipython-input-21-50aa284c1fa0>:39: FutureWarning: The frame.append method is deprecated and will be removed from pandas in a future version. Use pandas.concat instead.\n",
            "  df_score=df_score.append(df_grid.loc[gsr])\n"
          ]
        },
        {
          "metadata": {
            "tags": null
          },
          "name": "stdout",
          "output_type": "stream",
          "text": [
            "Inception model built.\n",
            "21/21 [==============================] - 6s 213ms/step\n",
            "Score CV 1 :    macro_auc\n",
            "0   0.871113 (AUROC score)\n",
            "Inception model built.\n",
            "21/21 [==============================] - 5s 209ms/step\n",
            "Score CV 2 :    macro_auc\n",
            "0   0.879743 (AUROC score)\n",
            "Inception model built.\n",
            "21/21 [==============================] - 5s 208ms/step\n",
            "Score CV 3 :    macro_auc\n",
            "0   0.869063 (AUROC score)\n",
            "Running gridsearch nr 786 of 972...\n"
          ]
        },
        {
          "metadata": {
            "tags": null
          },
          "name": "stderr",
          "output_type": "stream",
          "text": [
            "<ipython-input-21-50aa284c1fa0>:39: FutureWarning: The frame.append method is deprecated and will be removed from pandas in a future version. Use pandas.concat instead.\n",
            "  df_score=df_score.append(df_grid.loc[gsr])\n"
          ]
        },
        {
          "metadata": {
            "tags": null
          },
          "name": "stdout",
          "output_type": "stream",
          "text": [
            "Inception model built.\n",
            "21/21 [==============================] - 5s 161ms/step\n",
            "Score CV 1 :    macro_auc\n",
            "0   0.862035 (AUROC score)\n",
            "Inception model built.\n",
            "21/21 [==============================] - 5s 157ms/step\n",
            "Score CV 2 :    macro_auc\n",
            "0    0.86776 (AUROC score)\n",
            "Inception model built.\n",
            "21/21 [==============================] - 5s 159ms/step\n",
            "Score CV 3 :    macro_auc\n",
            "0    0.88166 (AUROC score)\n",
            "Running gridsearch nr 787 of 972...\n"
          ]
        },
        {
          "metadata": {
            "tags": null
          },
          "name": "stderr",
          "output_type": "stream",
          "text": [
            "<ipython-input-21-50aa284c1fa0>:39: FutureWarning: The frame.append method is deprecated and will be removed from pandas in a future version. Use pandas.concat instead.\n",
            "  df_score=df_score.append(df_grid.loc[gsr])\n"
          ]
        },
        {
          "metadata": {
            "tags": null
          },
          "name": "stdout",
          "output_type": "stream",
          "text": [
            "Inception model built.\n",
            "21/21 [==============================] - 5s 179ms/step\n",
            "Score CV 1 :    macro_auc\n",
            "0   0.876252 (AUROC score)\n",
            "Inception model built.\n",
            "21/21 [==============================] - 5s 181ms/step\n",
            "Score CV 2 :    macro_auc\n",
            "0    0.88044 (AUROC score)\n",
            "Inception model built.\n",
            "21/21 [==============================] - 5s 179ms/step\n",
            "Score CV 3 :    macro_auc\n",
            "0   0.880374 (AUROC score)\n",
            "Running gridsearch nr 788 of 972...\n"
          ]
        },
        {
          "metadata": {
            "tags": null
          },
          "name": "stderr",
          "output_type": "stream",
          "text": [
            "<ipython-input-21-50aa284c1fa0>:39: FutureWarning: The frame.append method is deprecated and will be removed from pandas in a future version. Use pandas.concat instead.\n",
            "  df_score=df_score.append(df_grid.loc[gsr])\n"
          ]
        },
        {
          "metadata": {
            "tags": null
          },
          "name": "stdout",
          "output_type": "stream",
          "text": [
            "Inception model built.\n",
            "21/21 [==============================] - 6s 236ms/step\n",
            "Score CV 1 :    macro_auc\n",
            "0   0.872432 (AUROC score)\n",
            "Inception model built.\n",
            "21/21 [==============================] - 6s 235ms/step\n",
            "Score CV 2 :    macro_auc\n",
            "0   0.875169 (AUROC score)\n",
            "Inception model built.\n",
            "21/21 [==============================] - 6s 237ms/step\n",
            "Score CV 3 :    macro_auc\n",
            "0   0.883025 (AUROC score)\n",
            "Running gridsearch nr 789 of 972...\n"
          ]
        },
        {
          "metadata": {
            "tags": null
          },
          "name": "stderr",
          "output_type": "stream",
          "text": [
            "<ipython-input-21-50aa284c1fa0>:39: FutureWarning: The frame.append method is deprecated and will be removed from pandas in a future version. Use pandas.concat instead.\n",
            "  df_score=df_score.append(df_grid.loc[gsr])\n"
          ]
        },
        {
          "metadata": {
            "tags": null
          },
          "name": "stdout",
          "output_type": "stream",
          "text": [
            "Inception model built.\n",
            "21/21 [==============================] - 5s 158ms/step\n",
            "Score CV 1 :    macro_auc\n",
            "0   0.877194 (AUROC score)\n",
            "Inception model built.\n",
            "21/21 [==============================] - 5s 158ms/step\n",
            "Score CV 2 :    macro_auc\n",
            "0   0.879591 (AUROC score)\n",
            "Inception model built.\n",
            "21/21 [==============================] - 5s 159ms/step\n",
            "Score CV 3 :    macro_auc\n",
            "0   0.871315 (AUROC score)\n",
            "Running gridsearch nr 790 of 972...\n"
          ]
        },
        {
          "metadata": {
            "tags": null
          },
          "name": "stderr",
          "output_type": "stream",
          "text": [
            "<ipython-input-21-50aa284c1fa0>:39: FutureWarning: The frame.append method is deprecated and will be removed from pandas in a future version. Use pandas.concat instead.\n",
            "  df_score=df_score.append(df_grid.loc[gsr])\n"
          ]
        },
        {
          "metadata": {
            "tags": null
          },
          "name": "stdout",
          "output_type": "stream",
          "text": [
            "Inception model built.\n",
            "21/21 [==============================] - 5s 181ms/step\n",
            "Score CV 1 :    macro_auc\n",
            "0   0.874268 (AUROC score)\n",
            "Inception model built.\n",
            "21/21 [==============================] - 5s 179ms/step\n",
            "Score CV 2 :    macro_auc\n",
            "0   0.870436 (AUROC score)\n",
            "Inception model built.\n",
            "21/21 [==============================] - 5s 180ms/step\n",
            "Score CV 3 :    macro_auc\n",
            "0   0.871527 (AUROC score)\n",
            "Running gridsearch nr 791 of 972...\n"
          ]
        },
        {
          "metadata": {
            "tags": null
          },
          "name": "stderr",
          "output_type": "stream",
          "text": [
            "<ipython-input-21-50aa284c1fa0>:39: FutureWarning: The frame.append method is deprecated and will be removed from pandas in a future version. Use pandas.concat instead.\n",
            "  df_score=df_score.append(df_grid.loc[gsr])\n"
          ]
        },
        {
          "metadata": {
            "tags": null
          },
          "name": "stdout",
          "output_type": "stream",
          "text": [
            "Inception model built.\n",
            "21/21 [==============================] - 6s 236ms/step\n",
            "Score CV 1 :    macro_auc\n",
            "0   0.883336 (AUROC score)\n",
            "Inception model built.\n",
            "21/21 [==============================] - 6s 241ms/step\n",
            "Score CV 2 :    macro_auc\n",
            "0   0.846127 (AUROC score)\n",
            "Inception model built.\n",
            "21/21 [==============================] - 6s 236ms/step\n",
            "Score CV 3 :    macro_auc\n",
            "0   0.881243 (AUROC score)\n",
            "Running gridsearch nr 792 of 972...\n"
          ]
        },
        {
          "metadata": {
            "tags": null
          },
          "name": "stderr",
          "output_type": "stream",
          "text": [
            "<ipython-input-21-50aa284c1fa0>:39: FutureWarning: The frame.append method is deprecated and will be removed from pandas in a future version. Use pandas.concat instead.\n",
            "  df_score=df_score.append(df_grid.loc[gsr])\n"
          ]
        },
        {
          "metadata": {
            "tags": null
          },
          "name": "stdout",
          "output_type": "stream",
          "text": [
            "Inception model built.\n",
            "21/21 [==============================] - 3s 113ms/step\n",
            "Score CV 1 :    macro_auc\n",
            "0   0.701763 (AUROC score)\n",
            "Inception model built.\n",
            "21/21 [==============================] - 3s 111ms/step\n",
            "Score CV 2 :    macro_auc\n",
            "0    0.75426 (AUROC score)\n",
            "Inception model built.\n",
            "21/21 [==============================] - 3s 109ms/step\n",
            "Score CV 3 :    macro_auc\n",
            "0   0.705248 (AUROC score)\n",
            "Running gridsearch nr 793 of 972...\n"
          ]
        },
        {
          "metadata": {
            "tags": null
          },
          "name": "stderr",
          "output_type": "stream",
          "text": [
            "<ipython-input-21-50aa284c1fa0>:39: FutureWarning: The frame.append method is deprecated and will be removed from pandas in a future version. Use pandas.concat instead.\n",
            "  df_score=df_score.append(df_grid.loc[gsr])\n"
          ]
        },
        {
          "metadata": {
            "tags": null
          },
          "name": "stdout",
          "output_type": "stream",
          "text": [
            "Inception model built.\n",
            "21/21 [==============================] - 4s 129ms/step\n",
            "Score CV 1 :    macro_auc\n",
            "0   0.798136 (AUROC score)\n",
            "Inception model built.\n",
            "21/21 [==============================] - 4s 133ms/step\n",
            "Score CV 2 :    macro_auc\n",
            "0   0.791599 (AUROC score)\n",
            "Inception model built.\n",
            "21/21 [==============================] - 4s 131ms/step\n",
            "Score CV 3 :    macro_auc\n",
            "0   0.789322 (AUROC score)\n",
            "Running gridsearch nr 794 of 972...\n"
          ]
        },
        {
          "metadata": {
            "tags": null
          },
          "name": "stderr",
          "output_type": "stream",
          "text": [
            "<ipython-input-21-50aa284c1fa0>:39: FutureWarning: The frame.append method is deprecated and will be removed from pandas in a future version. Use pandas.concat instead.\n",
            "  df_score=df_score.append(df_grid.loc[gsr])\n"
          ]
        },
        {
          "metadata": {
            "tags": null
          },
          "name": "stdout",
          "output_type": "stream",
          "text": [
            "Inception model built.\n",
            "21/21 [==============================] - 5s 182ms/step\n",
            "Score CV 1 :    macro_auc\n",
            "0   0.810941 (AUROC score)\n",
            "Inception model built.\n",
            "21/21 [==============================] - 5s 182ms/step\n",
            "Score CV 2 :    macro_auc\n",
            "0   0.850941 (AUROC score)\n",
            "Inception model built.\n",
            "21/21 [==============================] - 5s 183ms/step\n",
            "Score CV 3 :    macro_auc\n",
            "0   0.785455 (AUROC score)\n",
            "Running gridsearch nr 795 of 972...\n"
          ]
        },
        {
          "metadata": {
            "tags": null
          },
          "name": "stderr",
          "output_type": "stream",
          "text": [
            "<ipython-input-21-50aa284c1fa0>:39: FutureWarning: The frame.append method is deprecated and will be removed from pandas in a future version. Use pandas.concat instead.\n",
            "  df_score=df_score.append(df_grid.loc[gsr])\n"
          ]
        },
        {
          "metadata": {
            "tags": null
          },
          "name": "stdout",
          "output_type": "stream",
          "text": [
            "Inception model built.\n",
            "21/21 [==============================] - 4s 113ms/step\n",
            "Score CV 1 :    macro_auc\n",
            "0   0.698142 (AUROC score)\n",
            "Inception model built.\n",
            "21/21 [==============================] - 3s 110ms/step\n",
            "Score CV 2 :    macro_auc\n",
            "0   0.665589 (AUROC score)\n",
            "Inception model built.\n",
            "21/21 [==============================] - 3s 113ms/step\n",
            "Score CV 3 :    macro_auc\n",
            "0   0.612971 (AUROC score)\n",
            "Running gridsearch nr 796 of 972...\n"
          ]
        },
        {
          "metadata": {
            "tags": null
          },
          "name": "stderr",
          "output_type": "stream",
          "text": [
            "<ipython-input-21-50aa284c1fa0>:39: FutureWarning: The frame.append method is deprecated and will be removed from pandas in a future version. Use pandas.concat instead.\n",
            "  df_score=df_score.append(df_grid.loc[gsr])\n"
          ]
        },
        {
          "metadata": {
            "tags": null
          },
          "name": "stdout",
          "output_type": "stream",
          "text": [
            "Inception model built.\n",
            "21/21 [==============================] - 4s 130ms/step\n",
            "Score CV 1 :    macro_auc\n",
            "0   0.722301 (AUROC score)\n",
            "Inception model built.\n",
            "21/21 [==============================] - 4s 134ms/step\n",
            "Score CV 2 :    macro_auc\n",
            "0   0.753098 (AUROC score)\n",
            "Inception model built.\n",
            "21/21 [==============================] - 4s 132ms/step\n",
            "Score CV 3 :    macro_auc\n",
            "0   0.813672 (AUROC score)\n",
            "Running gridsearch nr 797 of 972...\n"
          ]
        },
        {
          "metadata": {
            "tags": null
          },
          "name": "stderr",
          "output_type": "stream",
          "text": [
            "<ipython-input-21-50aa284c1fa0>:39: FutureWarning: The frame.append method is deprecated and will be removed from pandas in a future version. Use pandas.concat instead.\n",
            "  df_score=df_score.append(df_grid.loc[gsr])\n"
          ]
        },
        {
          "metadata": {
            "tags": null
          },
          "name": "stdout",
          "output_type": "stream",
          "text": [
            "Inception model built.\n",
            "21/21 [==============================] - 5s 187ms/step\n",
            "Score CV 1 :    macro_auc\n",
            "0   0.765699 (AUROC score)\n",
            "Inception model built.\n",
            "21/21 [==============================] - 5s 184ms/step\n",
            "Score CV 2 :    macro_auc\n",
            "0   0.770361 (AUROC score)\n",
            "Inception model built.\n",
            "21/21 [==============================] - 5s 184ms/step\n",
            "Score CV 3 :    macro_auc\n",
            "0   0.786691 (AUROC score)\n",
            "Running gridsearch nr 798 of 972...\n"
          ]
        },
        {
          "metadata": {
            "tags": null
          },
          "name": "stderr",
          "output_type": "stream",
          "text": [
            "<ipython-input-21-50aa284c1fa0>:39: FutureWarning: The frame.append method is deprecated and will be removed from pandas in a future version. Use pandas.concat instead.\n",
            "  df_score=df_score.append(df_grid.loc[gsr])\n"
          ]
        },
        {
          "metadata": {
            "tags": null
          },
          "name": "stdout",
          "output_type": "stream",
          "text": [
            "Inception model built.\n",
            "21/21 [==============================] - 4s 134ms/step\n",
            "Score CV 1 :    macro_auc\n",
            "0   0.753515 (AUROC score)\n",
            "Inception model built.\n",
            "21/21 [==============================] - 4s 135ms/step\n",
            "Score CV 2 :    macro_auc\n",
            "0   0.779601 (AUROC score)\n",
            "Inception model built.\n",
            "21/21 [==============================] - 4s 138ms/step\n",
            "Score CV 3 :    macro_auc\n",
            "0   0.756694 (AUROC score)\n",
            "Running gridsearch nr 799 of 972...\n"
          ]
        },
        {
          "metadata": {
            "tags": null
          },
          "name": "stderr",
          "output_type": "stream",
          "text": [
            "<ipython-input-21-50aa284c1fa0>:39: FutureWarning: The frame.append method is deprecated and will be removed from pandas in a future version. Use pandas.concat instead.\n",
            "  df_score=df_score.append(df_grid.loc[gsr])\n"
          ]
        },
        {
          "metadata": {
            "tags": null
          },
          "name": "stdout",
          "output_type": "stream",
          "text": [
            "Inception model built.\n",
            "21/21 [==============================] - 4s 159ms/step\n",
            "Score CV 1 :    macro_auc\n",
            "0   0.786646 (AUROC score)\n",
            "Inception model built.\n",
            "21/21 [==============================] - 4s 158ms/step\n",
            "Score CV 2 :    macro_auc\n",
            "0   0.822237 (AUROC score)\n",
            "Inception model built.\n",
            "21/21 [==============================] - 4s 162ms/step\n",
            "Score CV 3 :    macro_auc\n",
            "0   0.818343 (AUROC score)\n",
            "Running gridsearch nr 800 of 972...\n"
          ]
        },
        {
          "metadata": {
            "tags": null
          },
          "name": "stderr",
          "output_type": "stream",
          "text": [
            "<ipython-input-21-50aa284c1fa0>:39: FutureWarning: The frame.append method is deprecated and will be removed from pandas in a future version. Use pandas.concat instead.\n",
            "  df_score=df_score.append(df_grid.loc[gsr])\n"
          ]
        },
        {
          "metadata": {
            "tags": null
          },
          "name": "stdout",
          "output_type": "stream",
          "text": [
            "Inception model built.\n",
            "21/21 [==============================] - 5s 211ms/step\n",
            "Score CV 1 :    macro_auc\n",
            "0   0.789703 (AUROC score)\n",
            "Inception model built.\n",
            "21/21 [==============================] - 6s 216ms/step\n",
            "Score CV 2 :    macro_auc\n",
            "0   0.840821 (AUROC score)\n",
            "Inception model built.\n",
            "21/21 [==============================] - 6s 216ms/step\n",
            "Score CV 3 :    macro_auc\n",
            "0    0.82497 (AUROC score)\n",
            "Running gridsearch nr 801 of 972...\n"
          ]
        },
        {
          "metadata": {
            "tags": null
          },
          "name": "stderr",
          "output_type": "stream",
          "text": [
            "<ipython-input-21-50aa284c1fa0>:39: FutureWarning: The frame.append method is deprecated and will be removed from pandas in a future version. Use pandas.concat instead.\n",
            "  df_score=df_score.append(df_grid.loc[gsr])\n"
          ]
        },
        {
          "metadata": {
            "tags": null
          },
          "name": "stdout",
          "output_type": "stream",
          "text": [
            "Inception model built.\n",
            "21/21 [==============================] - 4s 136ms/step\n",
            "Score CV 1 :    macro_auc\n",
            "0   0.729646 (AUROC score)\n",
            "Inception model built.\n",
            "21/21 [==============================] - 4s 138ms/step\n",
            "Score CV 2 :    macro_auc\n",
            "0   0.639953 (AUROC score)\n",
            "Inception model built.\n",
            "21/21 [==============================] - 4s 139ms/step\n",
            "Score CV 3 :    macro_auc\n",
            "0   0.641304 (AUROC score)\n",
            "Running gridsearch nr 802 of 972...\n"
          ]
        },
        {
          "metadata": {
            "tags": null
          },
          "name": "stderr",
          "output_type": "stream",
          "text": [
            "<ipython-input-21-50aa284c1fa0>:39: FutureWarning: The frame.append method is deprecated and will be removed from pandas in a future version. Use pandas.concat instead.\n",
            "  df_score=df_score.append(df_grid.loc[gsr])\n"
          ]
        },
        {
          "output_type": "stream",
          "name": "stdout",
          "text": [
            "Inception model built.\n",
            "21/21 [==============================] - 4s 157ms/step\n",
            "Score CV 1 :    macro_auc\n",
            "0   0.750653 (AUROC score)\n",
            "Inception model built.\n",
            "21/21 [==============================] - 4s 158ms/step\n",
            "Score CV 2 :    macro_auc\n",
            "0   0.805098 (AUROC score)\n",
            "Inception model built.\n",
            " 1/21 [>.............................] - ETA: 25s"
          ]
        }
      ],
      "source": [
        "skf = StratifiedKFold(n_splits=3, shuffle=True, random_state=42)\n",
        "df_grid = pd.read_csv(\"/content/drive/MyDrive/ptb-xl-gridsearch/gridsearch_params.csv\")\n",
        "df_score = pd.read_csv(\"/content/drive/MyDrive/ptb-xl-gridsearch/gridsearch_score_superdiagnostic.csv\")\n",
        "gs_left = df_grid.shape[0] - df_score.shape[0] # run only the remaining gridsearch\n",
        "init_rows = df_score.shape[0]\n",
        "\n",
        "for gsr in range(gs_left):\n",
        "  gsr = gsr + init_rows #if previous gridsearch results exists\n",
        "  print(\"Running gridsearch nr {} of {}...\".format(gsr,df_grid.shape[0]))\n",
        "  auc_score = []\n",
        "  for i, (train_index, test_index) in enumerate(skf.split(X_grid, y_grid.argmax(axis=1))):\n",
        "    with strategy.scope():\n",
        "      model = inception_time_model(name=\"tf_inception\", n_classes=num_classes, sampling_frequency=sampling_frequency, outputfolder=mpath, input_shape=input_shape, \n",
        "                                epoch=int(df_grid.iloc[gsr][\"epochs\"]), batch_size=int(df_grid.iloc[gsr][\"batch_size\"]), lr_init = df_grid.iloc[gsr][\"init_lr\"],\n",
        "                                lr_red=df_grid.iloc[gsr][\"lr_red\"], model_depth=int(df_grid.iloc[gsr][\"model_depth\"]), loss=df_grid.iloc[gsr][\"loss\"], \n",
        "                                kernel_size=int(df_grid.iloc[gsr][\"kernel_size\"].split(\",\")[0].split(\"(\")[1]))\n",
        "      cv_x_train = X_grid[train_index]\n",
        "      cv_y_train = y_grid[train_index] \n",
        "      cv_x_test = X_grid[test_index]\n",
        "      cv_y_test = y_grid[test_index]\n",
        "      cv_x_train,cv_x_test = preprocess_signals(cv_x_train,cv_x_test)\n",
        "      \n",
        "      tf_dataset_train = tf.data.Dataset.from_tensor_slices((cv_x_train, cv_y_train))  #tf.data.Dataset.from_tensor_slices((X_train, y_train))\n",
        "      tf_dataset_train = tf_dataset_train.cache()\n",
        "      tf_dataset_train = tf_dataset_train.batch(int(df_grid.iloc[gsr][\"batch_size\"]))\n",
        "      tf_dataset_train = tf_dataset_train.prefetch(tf.data.AUTOTUNE)\n",
        "\n",
        "      tf_dataset_val = tf.data.Dataset.from_tensor_slices((cv_x_test, cv_y_test))\n",
        "      tf_dataset_val = tf_dataset_train.cache()\n",
        "      tf_dataset_val = tf_dataset_train.batch(int(df_grid.iloc[gsr][\"batch_size\"]))\n",
        "      tf_dataset_val = tf_dataset_train.prefetch(tf.data.AUTOTUNE)\n",
        "\n",
        "      model.fit_tf(tf_dataset_train, tf_dataset_val)\n",
        "      y_hat_test = model.predict(cv_x_test)\n",
        "      score=utils.evaluate_experiment(np.vstack([cv_y_test,np.ones(cv_y_test.shape[1])]), np.vstack([y_hat_test,np.ones(y_hat_test.shape[1])]))\n",
        "      auc_score.append(score)\n",
        "      print(\"Score CV {} : {} (AUROC score)\".format(i+1,score))\n",
        "  df_grid.loc[gsr, 'auc'] = np.asarray(auc_score).mean()\n",
        "  df_score=df_score.append(df_grid.loc[gsr])\n",
        "  df_score.to_csv(\"/content/drive/MyDrive/ptb-xl-gridsearch/gridsearch_score_superdiagnostic.csv\", index=False)  "
      ]
    },
    {
      "cell_type": "code",
      "execution_count": null,
      "metadata": {
        "id": "SPSC9F4wPf9J"
      },
      "outputs": [],
      "source": [
        "utils.utils.evaluate_experiment(np.vstack([cv_y_test,np.ones(cv_y_test.shape[1])]), np.vstack([y_hat_test,np.ones(y_hat_test.shape[1])]))"
      ]
    },
    {
      "cell_type": "markdown",
      "metadata": {
        "id": "kvnNlyCX5oSi"
      },
      "source": [
        "# Evaluate model on validation data"
      ]
    },
    {
      "cell_type": "code",
      "execution_count": null,
      "metadata": {
        "id": "m1rgPocD5oSi"
      },
      "outputs": [],
      "source": [
        "y_val_pred = model.predict(X_val)\n",
        "utils.evaluate_experiment(y_val, y_val_pred)"
      ]
    }
  ],
  "metadata": {
    "accelerator": "TPU",
    "colab": {
      "machine_shape": "hm",
      "provenance": []
    },
    "gpuClass": "standard",
    "kernelspec": {
      "display_name": "Python 3.7.4 64-bit ('ecg_python37': conda)",
      "language": "python",
      "name": "python37464bitecgpython37condacca13046f89242bdbe235da55b7380ab"
    },
    "language_info": {
      "codemirror_mode": {
        "name": "ipython",
        "version": 3
      },
      "file_extension": ".py",
      "mimetype": "text/x-python",
      "name": "python",
      "nbconvert_exporter": "python",
      "pygments_lexer": "ipython3",
      "version": "3.7.4"
    }
  },
  "nbformat": 4,
  "nbformat_minor": 0
}